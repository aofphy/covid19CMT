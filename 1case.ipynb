{
 "cells": [
  {
   "cell_type": "code",
   "execution_count": 20,
   "metadata": {},
   "outputs": [],
   "source": [
    "import numpy as np\n",
    "import matplotlib.pyplot as plt\n",
    "\n",
    "### Real data\n",
    "real_infected = [1000,1030,1060,1130,1150,1240,1410,1460,1470,1770,2120,2720,3220,4110,5990,7210,8270,9340,10450,11360,12450]\n",
    "date = np.arange(0,len(real_infected))\n",
    "\n"
   ]
  },
  {
   "cell_type": "code",
   "execution_count": 21,
   "metadata": {},
   "outputs": [],
   "source": [
    "### Prediction\n",
    "############### Parameters ##########################\n",
    "ini_infected  = 1000     # initial infected people\n",
    "length    = 18     # predicted length (days)\n",
    "meeting   = 10     # 1 infected people can meet 20 people\n",
    "healed_day= 14      # infected people will be healed in 7 days after being infected\n",
    "Pop_total = 6E7\n",
    "# Define 3 classes of people depending on how to response\n",
    "# 0 H = (Highy responsible)\n",
    "# 1 M = (Moderately responsible)\n",
    "# 2 R = (Risky)\n",
    "for\n",
    "Pop       = 6E7\n",
    "R_lst     = 0.02 # contact rate\n",
    "Pop = Pop-ini_infected\n",
    "#Day 0\n",
    "Normal   = [Pop]                # never being infected\n",
    "Infect   = [ini_infected]          # sum of being infected and used to\n",
    "Heal     = [0]                     # be healed\n",
    "Net      = [Infect[0] - Heal[0]]   # still being infected\n",
    "day      = [0]\n",
    "### group 0 meet 0\n",
    "Rate      = R_lst*meeting\n",
    "#begin model\n",
    "for i in range(length):\n",
    "    ### new total infected people\n",
    "    day.append(i+1)\n",
    "    new_infect = Rate * Normal[-1]/Pop * Net[-1]\n",
    "    Infect.append(Infect[-1] + new_infect)\n",
    "    ### new normal people\n",
    "    Normal.append(Normal[-1]-new_infect)\n",
    "    ### new healed people\n",
    "    if i <= healed_day:\n",
    "        Heal.append(0)\n",
    "    else:\n",
    "        new_healed = Infect[i-healed_day]-Infect[i-healed_day-1]\n",
    "        Heal.append(Heal[-1]+new_healed)\n",
    "    ### new net\n",
    "    Net.append(Infect[-1]-Heal[-1])\n",
    "    ##print('day: %2d Normal: %10.1f Infected: %10.1f Healed: %10.1f Net: %10.1f //%5.3f' %(i,Normal[-1],Infect[-1],Heal[-1],Net[-1],Rate * Normal[-1]/Pop))\n"
   ]
  },
  {
   "cell_type": "code",
   "execution_count": 22,
   "metadata": {},
   "outputs": [
    {
     "data": {
      "image/png": "[encoded data removed]",
      "text/plain": [
       "<Figure size 432x288 with 1 Axes>"
      ]
     },
     "metadata": {
      "needs_background": "light"
     },
     "output_type": "display_data"
    }
   ],
   "source": [
    "#plt.plot(date, real_infected, 'ro', label='real')\n",
    "#plt.plot(day,Normal,'-',label =\"Normal\")\n",
    "plt.plot(day,Infect,'-',label =\"Infected\")\n",
    "#plt.plot(day,Heal,'-',label =\"Healed\")\n",
    "plt.plot(day,Net,'-',label =\"Net\")\n",
    "plt.plot(date,real_infected ,'-',label =\"real\")\n",
    "plt.xlabel('day')\n",
    "plt.ylabel('people')\n",
    "plt.legend()\n",
    "plt.show()\n",
    "\n"
   ]
  },
  {
   "cell_type": "code",
   "execution_count": null,
   "metadata": {},
   "outputs": [],
   "source": []
  },
  {
   "cell_type": "code",
   "execution_count": null,
   "metadata": {},
   "outputs": [],
   "source": []
  },
  {
   "cell_type": "code",
   "execution_count": null,
   "metadata": {},
   "outputs": [],
   "source": []
  }
 ],
 "metadata": {
  "kernelspec": {
   "display_name": "Python 3",
   "language": "python",
   "name": "python3"
  },
  "language_info": {
   "codemirror_mode": {
    "name": "ipython",
    "version": 3
   },
   "file_extension": ".py",
   "mimetype": "text/x-python",
   "name": "python",
   "nbconvert_exporter": "python",
   "pygments_lexer": "ipython3",
   "version": "3.7.4"
  }
 },
 "nbformat": 4,
 "nbformat_minor": 2
}
