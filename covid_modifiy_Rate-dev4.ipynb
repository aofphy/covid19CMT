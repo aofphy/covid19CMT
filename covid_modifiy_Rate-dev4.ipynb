{
 "cells": [
  {
   "cell_type": "code",
   "execution_count": 163,
   "metadata": {},
   "outputs": [],
   "source": [
    "import numpy as np\n",
    "import random \n",
    "import matplotlib.pyplot as plt\n",
    "import copy\n",
    "from mpl_toolkits import mplot3d\n",
    "import pandas as pd"
   ]
  },
  {
   "cell_type": "code",
   "execution_count": 164,
   "metadata": {},
   "outputs": [],
   "source": [
    "real_infected = np.array([100,103,106,113,115,124,141,146,147,177,212,272,322,411,599,721,827,934,1045,1136,1245,1388])\n",
    "date = np.arange(0,len(real_infected))"
   ]
  },
  {
   "cell_type": "code",
   "execution_count": 165,
   "metadata": {},
   "outputs": [],
   "source": [
    "############### Parameters ##########################\n",
    "# Define 7 groups of people depending on how to response\n",
    "### Normal people = never been infected\n",
    "# 0 H = (Highy responsible)\n",
    "# 1 M = (Moderately responsible)\n",
    "# 2 R = (Risky)\n",
    "### Infected people = ever been infected\n",
    "# 3 S = (Spreader)\n",
    "# 4 P = (Hospital)\n",
    "# 5 HS = (Healed_Spreader)\n",
    "# 6 HP = (Healed_Hospital)\n",
    "\n",
    "f_rate = 0.1\n",
    "\n",
    "H=30000000\n",
    "M=10000000\n",
    "R=20000000\n",
    "S=real_infected[0]*(1-f_rate)/f_rate\n",
    "P=real_infected[0]\n",
    "HS=0\n",
    "HP=0\n",
    "SA=S\n",
    "PA=P\n",
    "\n",
    "Pop        = [[H],[M],[R],[S],[P],[HS],[HP],[SA],[PA]]\n",
    "Pop_tot    = H + M + R + S + P + HS + HP\n",
    "#length     = 20      # predicted length (days)\n",
    "healed_day = 30   # infected people will be healed in 21 days after being infected"
   ]
  },
  {
   "cell_type": "code",
   "execution_count": 166,
   "metadata": {},
   "outputs": [],
   "source": [
    "def model(f_rate, meeting, Rh, Rm, Rr, day_i, day_f, population, cf_rate, plot=False, fit=True):\n",
    "    ## model infection from day_i to day_f and calculate MAE \n",
    "    \n",
    "    # Fitting parameters\n",
    "    # f_rate      :found rate\n",
    "    # meeting     :1 infected people can meet <meeting> people\n",
    "    # {Rh,Rm,Rr}  :transfered rate\n",
    "    \n",
    "    R_lst    = [Rh,Rm,Rr]           # transfered rate\n",
    "    P  = copy.deepcopy(population)  # tempolary list for Population [H,M,R,S,P,C]\n",
    "    \n",
    "    if day_i == 0:\n",
    "        day      = [0]\n",
    "        day_i = 1\n",
    "        FRate = [f_rate]*(day_f+1)\n",
    "    else:\n",
    "        day   =list(range(day_i))\n",
    "        FRate = (copy.deepcopy(cf_rate) + [f_rate]*(day_f-day_i+1))\n",
    "        \n",
    "    #begin modeling\n",
    "    for i in range(day_i,day_f+1):\n",
    "        day.append(i)\n",
    "        \n",
    "        ### update healed people\n",
    "        if i < healed_day:\n",
    "            new_healed_S = 0\n",
    "            new_healed_P = 0\n",
    "        elif i == healed_day:\n",
    "            new_healed_S = P[7][0]\n",
    "            new_healed_P = P[8][0]     \n",
    "        else:\n",
    "            new_healed_S = P[7][-healed_day]-P[7][-healed_day-1]\n",
    "            new_healed_P = P[8][-healed_day]-P[8][-healed_day-1]\n",
    "        P[5].append(P[5][-1] + new_healed_S)\n",
    "        P[6].append(P[6][-1] + new_healed_P)\n",
    "        \n",
    "        ### update normal and infect people\n",
    "        new_infect = 0\n",
    "        for j in range(len(R_lst)):\n",
    "            tmp_infect_group = (meeting*1*R_lst[j]*P[3][-1]*P[j][-1]/Pop_tot)\n",
    "            new_infect = new_infect + tmp_infect_group\n",
    "            P[j].append(P[j][-1]- tmp_infect_group)\n",
    "        \n",
    "        ### update spreder\n",
    "        P[3].append(P[3][-1] + new_infect*(1-FRate[i]) - new_healed_S)\n",
    "        P[7].append(P[7][-1] + new_infect*(1-FRate[i]))\n",
    "        ### update hospital\n",
    "        #print(new_healed_P,P[4][-1])\n",
    "        P[4].append(P[4][-1] + new_infect*FRate[i] - new_healed_P)\n",
    "        P[8].append(P[8][-1] + new_infect*FRate[i])\n",
    "        \n",
    "        \n",
    "    ### Plotting\n",
    "    if plot==True:\n",
    "        P_label = ['Highly_resp','Moderately_resp','Risky','Spreder','Hospital','Spreder_Healed','Hospital_Healed','Spreder_Accumulated','Hospital_Accumulated']\n",
    "        for i in [4,6]:\n",
    "            plt.plot(day,P[i],'-',label =P_label[i])\n",
    "        plt.plot(date,real_infected,'ro', label='real') \n",
    "        #plt.ylim([0,P[4][-1]*1.2])\n",
    "        plt.xlabel('day')\n",
    "        plt.ylabel('people')\n",
    "        plt.legend()\n",
    "        plt.show()\n",
    "        \n",
    "        #List = np.array(P[3:7])\n",
    "        #TI= np.sum(List, 0) \n",
    "        #plt.plot(day,TI,'-',label ='Total infected')\n",
    "        #plt.xlabel('day')\n",
    "        #plt.ylabel('people')\n",
    "        #plt.legend()\n",
    "        #plt.show()\n",
    "        \n",
    "    if fit == True:\n",
    "        ### Calculate MAE\n",
    "        AE=0\n",
    "        for i in range(day_i,day_f+1):\n",
    "            confirmed_case = P[8][i]\n",
    "            AE=AE+abs(confirmed_case-real_infected[i])\n",
    "        MAE = AE/(day_f-day_i+1)\n",
    "        #print(\"%10.4f\" %MAE)\n",
    "\n",
    "        return MAE, P, FRate\n",
    "    else:\n",
    "        return P, FRate"
   ]
  },
  {
   "cell_type": "code",
   "execution_count": 167,
   "metadata": {},
   "outputs": [],
   "source": [
    "### fitting from day_i to day_f\n",
    "def fit(f_rate_s,meeting_s,Rh_s,Rm_s,Rr_s,day_i, day_f, CPop, CFRate):\n",
    "    data = []\n",
    "    for f_rate in f_rate_s:\n",
    "        for meeting in meeting_s:\n",
    "            for Rh in Rh_s:\n",
    "                for Rm in Rm_s:\n",
    "                    for Rr in Rr_s:\n",
    "                        tmp_pop = copy.deepcopy(CPop)\n",
    "                        tmp_frate = copy.deepcopy(CFRate)\n",
    "                        MAE, _, _ = model(f_rate, meeting, Rh, Rm, Rr, day_i, day_f,tmp_pop,tmp_frate,plot=False,fit=True)\n",
    "                        data.append([MAE,f_rate,meeting,Rh,Rm,Rr])\n",
    "    sorted_data = sorted(data,key=lambda x: x[0])\n",
    "    print('\\nThe top 10 best fitted parameters')\n",
    "    print('  MAE  f_rate Meeting  Rh    Rm    Rr')\n",
    "    for i in range(10):\n",
    "        print('%6.2f %6.2f %4.1f %6.3f %6.3f %6.3f' %(sorted_data[i][0],sorted_data[i][1],sorted_data[i][2],sorted_data[i][3],sorted_data[i][4],sorted_data[i][5]))\n",
    "    print('\\nPlotting for the best fitting')\n",
    "    print('  MAE  f_rate Meeting  Rh    Rm    Rr')\n",
    "    print('%6.2f %6.2f %4.1f %6.5f %6.5f %6.5f' %(sorted_data[0][0],sorted_data[0][1],sorted_data[0][2],sorted_data[0][3],sorted_data[0][4],sorted_data[0][5]))\n",
    "    return sorted_data[0],model(sorted_data[0][1], sorted_data[0][2], sorted_data[0][3], sorted_data[0][4], sorted_data[0][5], day_i, day_f, CPop, CFRate, True, True)"
   ]
  },
  {
   "cell_type": "code",
   "execution_count": 182,
   "metadata": {},
   "outputs": [
    {
     "name": "stdout",
     "output_type": "stream",
     "text": [
      "\n",
      "The top 10 best fitted parameters\n",
      "  MAE  f_rate Meeting  Rh    Rm    Rr\n",
      "  9.32   0.10 10.0  0.000  0.016  0.010\n",
      "  9.32   0.10 10.0  0.000  0.006  0.015\n",
      "  9.32   0.10 10.0  0.000  0.016  0.010\n",
      "  9.32   0.10 10.0  0.000  0.006  0.015\n",
      "  9.32   0.10 10.0  0.000  0.016  0.010\n",
      "  9.32   0.10 10.0  0.000  0.006  0.015\n",
      "  9.32   0.10 10.0  0.000  0.016  0.010\n",
      "  9.32   0.10 10.0  0.000  0.006  0.015\n",
      "  9.32   0.10 10.0  0.000  0.017  0.010\n",
      "  9.32   0.10 10.0  0.000  0.007  0.015\n",
      "\n",
      "Plotting for the best fitting\n",
      "  MAE  f_rate Meeting  Rh    Rm    Rr\n",
      "  9.32   0.10 10.0 0.00036 0.01600 0.01000\n"
     ]
    },
    {
     "data": {
      "image/png": "[encoded data removed]",
      "text/plain": [
       "<Figure size 432x288 with 1 Axes>"
      ]
     },
     "metadata": {
      "needs_background": "light"
     },
     "output_type": "display_data"
    }
   ],
   "source": [
    "### Fitting\n",
    "# step 1 day 0 to day 10\n",
    "day_i = 0; day_f =10\n",
    "f_rate_s  = [0.1]\n",
    "meeting_s = [10]                        \n",
    "Rh_s      = np.arange(0.0001,0.0005,0.00002)\n",
    "Rm_s      = np.arange(0.001,0.02,0.001)\n",
    "Rr_s      = np.arange(0.01,0.06,0.005)\n",
    "params, [MAE, CPop, CFRate] = fit(f_rate_s,meeting_s,Rh_s,Rm_s,Rr_s,day_i,day_f, Pop, [0])\n"
   ]
  },
  {
   "cell_type": "code",
   "execution_count": 183,
   "metadata": {
    "scrolled": true
   },
   "outputs": [
    {
     "name": "stdout",
     "output_type": "stream",
     "text": [
      "\n",
      "The top 10 best fitted parameters\n",
      "  MAE  f_rate Meeting  Rh    Rm    Rr\n",
      "223.64   0.10 10.0  0.000  0.019  0.055\n",
      "224.48   0.10 10.0  0.000  0.019  0.055\n",
      "225.33   0.10 10.0  0.000  0.019  0.055\n",
      "226.17   0.10 10.0  0.000  0.019  0.055\n",
      "227.01   0.10 10.0  0.000  0.019  0.055\n",
      "227.85   0.10 10.0  0.000  0.019  0.055\n",
      "228.69   0.10 10.0  0.000  0.019  0.055\n",
      "229.25   0.10 10.0  0.000  0.018  0.055\n",
      "229.53   0.10 10.0  0.000  0.019  0.055\n",
      "230.09   0.10 10.0  0.000  0.018  0.055\n",
      "\n",
      "Plotting for the best fitting\n",
      "  MAE  f_rate Meeting  Rh    Rm    Rr\n",
      "223.64   0.10 10.0 0.00045 0.01900 0.05500\n"
     ]
    },
    {
     "data": {
      "image/png": "[encoded data removed]",
      "text/plain": [
       "<Figure size 432x288 with 1 Axes>"
      ]
     },
     "metadata": {
      "needs_background": "light"
     },
     "output_type": "display_data"
    }
   ],
   "source": [
    "# step 2 day 8 to day 13\n",
    "day_i = 11; day_f = 21\n",
    "f_rate_s  = [0.1]\n",
    "meeting_s = [10]                        \n",
    "Rh_s      = np.arange(0.0001,0.0005,0.00005)\n",
    "Rm_s      = np.arange(0.001,0.02,0.001)\n",
    "Rr_s      = np.arange(0.01,0.06,0.005)\n",
    "params, [MAE, CPop, CFRate] = fit(f_rate_s,meeting_s,Rh_s,Rm_s,Rr_s,day_i,day_f, CPop, CFRate)"
   ]
  },
  {
   "cell_type": "code",
   "execution_count": null,
   "metadata": {},
   "outputs": [],
   "source": [
    "### prediction\n",
    "day_i = 22 ; day_f = 300\n",
    "use_last_fitting = True  # True or False\n",
    "if use_last_fitting:\n",
    "    ### from last fitting\n",
    "    f_rate = params[1]\n",
    "    meeting= params[2]\n",
    "    Rh     = params[3]\n",
    "    Rm     = params[4]\n",
    "    Rr     = params[5]\n",
    "else:\n",
    "    ### new input\n",
    "    f_rate = 0.5\n",
    "    meeting= 7\n",
    "    Rh     = 0.02\n",
    "    Rm     = 0.1\n",
    "    Rr     = 0.2\n",
    "\n",
    "_,_ = model(f_rate, meeting, Rh, Rm, Rr, day_i, day_f, CPop, CFRate, plot=True, fit=False)\n",
    "\n"
   ]
  },
  {
   "cell_type": "code",
   "execution_count": null,
   "metadata": {},
   "outputs": [],
   "source": []
  },
  {
   "cell_type": "code",
   "execution_count": null,
   "metadata": {},
   "outputs": [],
   "source": []
  },
  {
   "cell_type": "code",
   "execution_count": null,
   "metadata": {},
   "outputs": [],
   "source": []
  }
 ],
 "metadata": {
  "kernelspec": {
   "display_name": "Python 3",
   "language": "python",
   "name": "python3"
  },
  "language_info": {
   "codemirror_mode": {
    "name": "ipython",
    "version": 3
   },
   "file_extension": ".py",
   "mimetype": "text/x-python",
   "name": "python",
   "nbconvert_exporter": "python",
   "pygments_lexer": "ipython3",
   "version": "3.7.4"
  }
 },
 "nbformat": 4,
 "nbformat_minor": 2
}
