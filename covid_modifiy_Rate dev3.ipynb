{
 "cells": [
  {
   "cell_type": "code",
   "execution_count": 64,
   "metadata": {},
   "outputs": [],
   "source": [
    "import numpy as np\n",
    "import random \n",
    "import matplotlib.pyplot as plt\n",
    "import copy\n",
    "from mpl_toolkits import mplot3d\n",
    "import pandas as pd"
   ]
  },
  {
   "cell_type": "code",
   "execution_count": 65,
   "metadata": {},
   "outputs": [],
   "source": [
    "real_infected = np.array([100,103,106,113,115,124,141,146,147,177,212,272,322,411,599,721,827,934,1045,1136,1245])\n",
    "#df = pd.read_csv('out1.csv')\n",
    "#real_infected=df['number of Infect'].values.tolist()\n",
    "#print(len(real_infected))\n",
    "#real_infected=real_infected[10:]\n",
    "#print(len(real_infected))\n",
    "date = np.arange(0,len(real_infected))"
   ]
  },
  {
   "cell_type": "code",
   "execution_count": 66,
   "metadata": {},
   "outputs": [],
   "source": [
    "############### Parameters ##########################\n",
    "# Define 3 classes of people depending on how to response\n",
    "# 0 H = (Highy responsible)\n",
    "# 1 M = (Moderately responsible)\n",
    "# 2 R = (Risky)\n",
    "H=30000000\n",
    "M=10000000\n",
    "R=20000000\n",
    "\n",
    "Pop        = [H,M,R]\n",
    "Pop_tot    = sum(Pop)\n",
    "#length     = 20      # predicted length (days)\n",
    "healed_day = 21     # infected people will be healed in 21 days after being infected"
   ]
  },
  {
   "cell_type": "code",
   "execution_count": 67,
   "metadata": {},
   "outputs": [],
   "source": [
    "def model(f_rate, meeting, Rh, Rm, Rr, day_i, day_f, normal, infect, heal, net, found, plot=False, fit=True):\n",
    "    ## model infection from day_i to day_f and calculate MAE \n",
    "    \n",
    "    # Fitting parameters\n",
    "    # f_rate      :found rate\n",
    "    # meeting     :1 infected people can meet <meeting> people\n",
    "    # {Rh,Rm,Rr}  :transfered rate\n",
    "    # normal, infect, heal, net : day_i\n",
    "    \n",
    "    R_lst    = [Rh,Rm,Rr] # transfered rate\n",
    "    if day_i == 0:\n",
    "        day      = [0]\n",
    "        inft = real_infected[0]/f_rate        # initial infected people\n",
    "        init_infect  = [inft,0,0]\n",
    "        #..............................#\n",
    "        Normal   = [[] for i in range(len(Pop))] # never being infected\n",
    "        Infect   = [[] for i in range(len(Pop))] # sum of being infected and used to\n",
    "        Heal     = [[] for i in range(len(Pop))] # be healed\n",
    "        Net      = [[] for i in range(len(Pop))] # still being infected\n",
    "        Found    = [[] for i in range(len(Pop))] # infect * found_rate\n",
    "        for i in range(len(Pop)):\n",
    "            Normal[i].append(Pop[i]-init_infect[i]) \n",
    "            Infect[i].append(init_infect[i])          \n",
    "            Heal[i].append(0)                   \n",
    "            Net[i].append(Infect[i][0] - Heal[i][0])\n",
    "            Found[i].append(init_infect[i]*f_rate)\n",
    "        day_i = 1\n",
    "    else:\n",
    "        day   =list(range(day_i))\n",
    "        Normal=copy.deepcopy(normal)\n",
    "        Infect=copy.deepcopy(infect)\n",
    "        Heal  =copy.deepcopy(heal)\n",
    "        Net   =copy.deepcopy(net)\n",
    "        Found =copy.deepcopy(found)\n",
    "    \n",
    "    #begin modeling\n",
    "    for i in range(day_i,day_f+1):\n",
    "        day.append(i)\n",
    "        ### group j meet k\n",
    "        for j in range(len(Pop)):\n",
    "            \n",
    "            ### update total infected people\n",
    "            new_infect = 0\n",
    "            for k in range(len(Pop)):   \n",
    "                Rate  =R_lst[j]*R_lst[k]*meeting                                     \n",
    "                new_infect = new_infect + Rate*Net[k][-1]*Normal[j][-1]/Pop_tot\n",
    "            Infect[j].append(Infect[j][-1] + new_infect)\n",
    "            \n",
    "            ### update found people\n",
    "            Found[j].append(Found[j][-1]+new_infect*f_rate)\n",
    "            \n",
    "            ### update normal people\n",
    "            Normal[j].append(Normal[j][-1]-new_infect)\n",
    "            \n",
    "            ### update healed people\n",
    "            if i < healed_day:\n",
    "                new_healed = 0\n",
    "            elif i == healed_day:\n",
    "                new_healed = Infect[j][0]\n",
    "            else:\n",
    "                new_healed = Infect[j][-1-healed_day]-Infect[j][-1-healed_day-1]\n",
    "            Heal[j].append(Heal[j][-1]+new_healed)\n",
    "            \n",
    "            ### update net\n",
    "            Net[j].append(Infect[j][-1]-Heal[j][-1])\n",
    "            ##print('day: %2d Normal: %10.1f Infected: %10.1f Healed: %10.1f Net: %10.1f //%10.1f' %(i,Normal[j][-1],Infect[j][-1],Heal[j][-1],Net[j][-1],new_infect))\n",
    "        \n",
    "    ### Plotting\n",
    "    \n",
    "    Normal_sum = np.zeros(len(Normal[0]))\n",
    "    Infect_sum = np.zeros(len(Infect[0]))\n",
    "    Heal_sum = np.zeros(len(Heal[0]))\n",
    "    Net_sum = np.zeros(len(Net[0]))\n",
    "    Found_sum = np.zeros(len(Net[0]))\n",
    "    for j in range(len(Pop)):\n",
    "        Normal_sum = Normal_sum + Normal[j]\n",
    "        Infect_sum = Infect_sum + Infect[j]\n",
    "        Heal_sum   = Heal_sum   + Heal[j]\n",
    "        Net_sum    = Net_sum    + Net[j]    \n",
    "        Found_sum  = Found_sum  + Found[j]  \n",
    "    if plot==True:\n",
    "        #plt.plot(day,Normal_sum,'-',label =\"Normal\")\n",
    "        plt.plot(day,Infect_sum,'-',label =\"Infected\")\n",
    "        plt.plot(day,Heal_sum,'-',label =\"Healed\")\n",
    "        plt.plot(day,Net_sum,'-',label =\"Net\")\n",
    "        plt.plot(day,Found_sum,'-',label =\"Found\")\n",
    "        plt.plot(date,real_infected,'ro', label='real') \n",
    "        plt.ylim([0,Found_sum[-1]*1.2])\n",
    "        plt.xlabel('day')\n",
    "        plt.ylabel('people')\n",
    "        plt.legend()\n",
    "        plt.show()\n",
    "    if fit == True:\n",
    "        ### Calculate MAE\n",
    "        AE=0\n",
    "        for i in range(day_i,day_f+1):\n",
    "            AE=AE+abs(Found_sum[i]-real_infected[i])\n",
    "        MAE = AE/(day_f-day_i+1)\n",
    "        #print(\"%10.4f\" %MAE)\n",
    "\n",
    "        return MAE, Normal, Infect, Heal, Net, Found\n",
    "    else:\n",
    "        return Normal, Infect, Heal, Net, Found"
   ]
  },
  {
   "cell_type": "code",
   "execution_count": 68,
   "metadata": {},
   "outputs": [],
   "source": [
    "### fitting from day_i to day_f\n",
    "def fit(f_rate_s,meeting_s,Rh_s,Rm_s,Rr_s,day_i, day_f, CNormal, CInfect, CHeal, CNet, CFound):\n",
    "    data = []\n",
    "    for f_rate in f_rate_s:\n",
    "        for meeting in meeting_s:\n",
    "            for Rh in Rh_s:\n",
    "                for Rm in Rm_s:\n",
    "                    for Rr in Rr_s:\n",
    "                        normal = copy.deepcopy(CNormal)\n",
    "                        infect = copy.deepcopy(CInfect)\n",
    "                        heal   = copy.deepcopy(CHeal)\n",
    "                        net    = copy.deepcopy(CNet)\n",
    "                        found  = copy.deepcopy(CFound)\n",
    "                        MAE, _, _, _, _, _ = model(f_rate, meeting, Rh, Rm, Rr, day_i, day_f,normal,infect,heal,net,found,plot=False,fit=True)\n",
    "                        #print('%6.2f %6.2f %4.1f %6.3f %6.3f %6.3f' %(MAE,f_rate,meeting,Rh,Rm,Rr))\n",
    "                        data.append([MAE, f_rate,meeting,Rh,Rm,Rr])\n",
    "    sorted_data = sorted(data,key=lambda x: x[0])\n",
    "    print('\\nThe top 10 best fitted parameters')\n",
    "    print('  MAE  f_rate Meeting  Rh    Rm    Rr')\n",
    "    for i in range(5):\n",
    "        print('%6.2f %6.2f %4.1f %6.3f %6.3f %6.3f' %(sorted_data[i][0],sorted_data[i][1],sorted_data[i][2],sorted_data[i][3],sorted_data[i][4],sorted_data[i][5]))\n",
    "    print('\\nPlotting for the best fitting')\n",
    "    print('  MAE  f_rate Meeting  Rh    Rm    Rr')\n",
    "    print('%6.2f %6.2f %4.1f %6.3f %6.3f %6.3f' %(sorted_data[0][0],sorted_data[0][1],sorted_data[0][2],sorted_data[0][3],sorted_data[0][4],sorted_data[0][5]))\n",
    "    return sorted_data[0],model(sorted_data[0][1], sorted_data[0][2], sorted_data[0][3], sorted_data[0][4], sorted_data[0][5], day_i, day_f, CNormal, CInfect, CHeal, CNet, CFound, True, True)"
   ]
  },
  {
   "cell_type": "code",
   "execution_count": 70,
   "metadata": {},
   "outputs": [
    {
     "name": "stdout",
     "output_type": "stream",
     "text": [
      "\n",
      "The top 10 best fitted parameters\n",
      "  MAE  f_rate Meeting  Rh    Rm    Rr\n",
      "2830604.40   0.20 10.0  0.010  0.100  0.300\n",
      "3405704.53   0.25 10.0  0.010  0.100  0.300\n",
      "3541354.73   0.20 10.0  0.020  0.100  0.300\n",
      "3601705.12   0.20 10.0  0.010  0.200  0.300\n",
      "3614770.36   0.20 10.0  0.010  0.100  0.400\n",
      "\n",
      "Plotting for the best fitting\n",
      "  MAE  f_rate Meeting  Rh    Rm    Rr\n",
      "2830604.40   0.20 10.0  0.010  0.100  0.300\n"
     ]
    },
    {
     "data": {
      "image/png": "[encoded data removed]",
      "text/plain": [
       "<Figure size 432x288 with 1 Axes>"
      ]
     },
     "metadata": {
      "needs_background": "light"
     },
     "output_type": "display_data"
    }
   ],
   "source": [
    "### Fitting\n",
    "# fit(f_rate_s,meeting_s,Rh_s,Rm_s,Rr_s,day_i,day_f, Normal, Infect, Heal, Net, Found)\n",
    "\n",
    "# step 1 day 0 to day 7  ##np.arange(0.2,0.5,0.05)\n",
    "day_i = 0; day_f = 19\n",
    "f_rate_s  =np.arange(0.2,0.5,0.05)\n",
    "meeting_s = [10]                                    ###np.arange(1,11,0.5)\n",
    "Rh_s      = np.arange(0.01,0.03,0.01)\n",
    "Rm_s      = np.arange(0.1,0.3,0.1)\n",
    "Rr_s      = np.arange(0.3,0.5,0.1)\n",
    "params, [MAE, CNormal, CInfect, CHeal, CNet, CFound] = fit(f_rate_s,meeting_s,Rh_s,Rm_s,Rr_s,day_i,day_f, [30E7,10E7,20E7], [0,0,0], [0,0,0], [0,0,0],[0,0,0])\n"
   ]
  },
  {
   "cell_type": "code",
   "execution_count": 71,
   "metadata": {
    "scrolled": true
   },
   "outputs": [
    {
     "name": "stdout",
     "output_type": "stream",
     "text": [
      "\n",
      "The top 10 best fitted parameters\n",
      "  MAE  f_rate Meeting  Rh    Rm    Rr\n",
      "6047661.15   0.05  3.0  0.010  0.100  0.300\n",
      "6047691.44   0.05  3.0  0.010  0.200  0.300\n",
      "6047691.93   0.05  3.0  0.010  0.100  0.400\n",
      "6047722.22   0.05  3.0  0.010  0.200  0.400\n",
      "6048372.60   0.05  4.0  0.010  0.100  0.300\n",
      "\n",
      "Plotting for the best fitting\n",
      "  MAE  f_rate Meeting  Rh    Rm    Rr\n",
      "6047661.15   0.05  3.0  0.010  0.100  0.300\n"
     ]
    },
    {
     "ename": "ValueError",
     "evalue": "x and y must have same first dimension, but have shapes (21,) and (30,)",
     "output_type": "error",
     "traceback": [
      "\u001b[1;31m---------------------------------------------------------------------------\u001b[0m",
      "\u001b[1;31mValueError\u001b[0m                                Traceback (most recent call last)",
      "\u001b[1;32m<ipython-input-71-b3e02b4c3d27>\u001b[0m in \u001b[0;36m<module>\u001b[1;34m\u001b[0m\n\u001b[0;32m      6\u001b[0m \u001b[0mRm_s\u001b[0m      \u001b[1;33m=\u001b[0m \u001b[0mnp\u001b[0m\u001b[1;33m.\u001b[0m\u001b[0marange\u001b[0m\u001b[1;33m(\u001b[0m\u001b[1;36m0.1\u001b[0m\u001b[1;33m,\u001b[0m\u001b[1;36m0.3\u001b[0m\u001b[1;33m,\u001b[0m\u001b[1;36m0.1\u001b[0m\u001b[1;33m)\u001b[0m\u001b[1;33m\u001b[0m\u001b[1;33m\u001b[0m\u001b[0m\n\u001b[0;32m      7\u001b[0m \u001b[0mRr_s\u001b[0m      \u001b[1;33m=\u001b[0m \u001b[0mnp\u001b[0m\u001b[1;33m.\u001b[0m\u001b[0marange\u001b[0m\u001b[1;33m(\u001b[0m\u001b[1;36m0.3\u001b[0m\u001b[1;33m,\u001b[0m\u001b[1;36m0.5\u001b[0m\u001b[1;33m,\u001b[0m\u001b[1;36m0.1\u001b[0m\u001b[1;33m)\u001b[0m\u001b[1;33m\u001b[0m\u001b[1;33m\u001b[0m\u001b[0m\n\u001b[1;32m----> 8\u001b[1;33m \u001b[0mparams\u001b[0m\u001b[1;33m,\u001b[0m \u001b[1;33m[\u001b[0m\u001b[0mMAE\u001b[0m\u001b[1;33m,\u001b[0m \u001b[0mCNormal\u001b[0m\u001b[1;33m,\u001b[0m \u001b[0mCInfect\u001b[0m\u001b[1;33m,\u001b[0m \u001b[0mCHeal\u001b[0m\u001b[1;33m,\u001b[0m \u001b[0mCNet\u001b[0m\u001b[1;33m,\u001b[0m \u001b[0mCFound\u001b[0m\u001b[1;33m]\u001b[0m \u001b[1;33m=\u001b[0m \u001b[0mfit\u001b[0m\u001b[1;33m(\u001b[0m\u001b[0mf_rate_s\u001b[0m\u001b[1;33m,\u001b[0m\u001b[0mmeeting_s\u001b[0m\u001b[1;33m,\u001b[0m\u001b[0mRh_s\u001b[0m\u001b[1;33m,\u001b[0m\u001b[0mRm_s\u001b[0m\u001b[1;33m,\u001b[0m\u001b[0mRr_s\u001b[0m\u001b[1;33m,\u001b[0m\u001b[0mday_i\u001b[0m\u001b[1;33m,\u001b[0m\u001b[0mday_f\u001b[0m\u001b[1;33m,\u001b[0m \u001b[0mCNormal\u001b[0m\u001b[1;33m,\u001b[0m \u001b[0mCInfect\u001b[0m\u001b[1;33m,\u001b[0m \u001b[0mCHeal\u001b[0m\u001b[1;33m,\u001b[0m \u001b[0mCNet\u001b[0m\u001b[1;33m,\u001b[0m \u001b[0mCFound\u001b[0m\u001b[1;33m)\u001b[0m\u001b[1;33m\u001b[0m\u001b[1;33m\u001b[0m\u001b[0m\n\u001b[0m",
      "\u001b[1;32m<ipython-input-68-9afe8fea6a57>\u001b[0m in \u001b[0;36mfit\u001b[1;34m(f_rate_s, meeting_s, Rh_s, Rm_s, Rr_s, day_i, day_f, CNormal, CInfect, CHeal, CNet, CFound)\u001b[0m\n\u001b[0;32m     23\u001b[0m     \u001b[0mprint\u001b[0m\u001b[1;33m(\u001b[0m\u001b[1;34m'  MAE  f_rate Meeting  Rh    Rm    Rr'\u001b[0m\u001b[1;33m)\u001b[0m\u001b[1;33m\u001b[0m\u001b[1;33m\u001b[0m\u001b[0m\n\u001b[0;32m     24\u001b[0m     \u001b[0mprint\u001b[0m\u001b[1;33m(\u001b[0m\u001b[1;34m'%6.2f %6.2f %4.1f %6.3f %6.3f %6.3f'\u001b[0m \u001b[1;33m%\u001b[0m\u001b[1;33m(\u001b[0m\u001b[0msorted_data\u001b[0m\u001b[1;33m[\u001b[0m\u001b[1;36m0\u001b[0m\u001b[1;33m]\u001b[0m\u001b[1;33m[\u001b[0m\u001b[1;36m0\u001b[0m\u001b[1;33m]\u001b[0m\u001b[1;33m,\u001b[0m\u001b[0msorted_data\u001b[0m\u001b[1;33m[\u001b[0m\u001b[1;36m0\u001b[0m\u001b[1;33m]\u001b[0m\u001b[1;33m[\u001b[0m\u001b[1;36m1\u001b[0m\u001b[1;33m]\u001b[0m\u001b[1;33m,\u001b[0m\u001b[0msorted_data\u001b[0m\u001b[1;33m[\u001b[0m\u001b[1;36m0\u001b[0m\u001b[1;33m]\u001b[0m\u001b[1;33m[\u001b[0m\u001b[1;36m2\u001b[0m\u001b[1;33m]\u001b[0m\u001b[1;33m,\u001b[0m\u001b[0msorted_data\u001b[0m\u001b[1;33m[\u001b[0m\u001b[1;36m0\u001b[0m\u001b[1;33m]\u001b[0m\u001b[1;33m[\u001b[0m\u001b[1;36m3\u001b[0m\u001b[1;33m]\u001b[0m\u001b[1;33m,\u001b[0m\u001b[0msorted_data\u001b[0m\u001b[1;33m[\u001b[0m\u001b[1;36m0\u001b[0m\u001b[1;33m]\u001b[0m\u001b[1;33m[\u001b[0m\u001b[1;36m4\u001b[0m\u001b[1;33m]\u001b[0m\u001b[1;33m,\u001b[0m\u001b[0msorted_data\u001b[0m\u001b[1;33m[\u001b[0m\u001b[1;36m0\u001b[0m\u001b[1;33m]\u001b[0m\u001b[1;33m[\u001b[0m\u001b[1;36m5\u001b[0m\u001b[1;33m]\u001b[0m\u001b[1;33m)\u001b[0m\u001b[1;33m)\u001b[0m\u001b[1;33m\u001b[0m\u001b[1;33m\u001b[0m\u001b[0m\n\u001b[1;32m---> 25\u001b[1;33m     \u001b[1;32mreturn\u001b[0m \u001b[0msorted_data\u001b[0m\u001b[1;33m[\u001b[0m\u001b[1;36m0\u001b[0m\u001b[1;33m]\u001b[0m\u001b[1;33m,\u001b[0m\u001b[0mmodel\u001b[0m\u001b[1;33m(\u001b[0m\u001b[0msorted_data\u001b[0m\u001b[1;33m[\u001b[0m\u001b[1;36m0\u001b[0m\u001b[1;33m]\u001b[0m\u001b[1;33m[\u001b[0m\u001b[1;36m1\u001b[0m\u001b[1;33m]\u001b[0m\u001b[1;33m,\u001b[0m \u001b[0msorted_data\u001b[0m\u001b[1;33m[\u001b[0m\u001b[1;36m0\u001b[0m\u001b[1;33m]\u001b[0m\u001b[1;33m[\u001b[0m\u001b[1;36m2\u001b[0m\u001b[1;33m]\u001b[0m\u001b[1;33m,\u001b[0m \u001b[0msorted_data\u001b[0m\u001b[1;33m[\u001b[0m\u001b[1;36m0\u001b[0m\u001b[1;33m]\u001b[0m\u001b[1;33m[\u001b[0m\u001b[1;36m3\u001b[0m\u001b[1;33m]\u001b[0m\u001b[1;33m,\u001b[0m \u001b[0msorted_data\u001b[0m\u001b[1;33m[\u001b[0m\u001b[1;36m0\u001b[0m\u001b[1;33m]\u001b[0m\u001b[1;33m[\u001b[0m\u001b[1;36m4\u001b[0m\u001b[1;33m]\u001b[0m\u001b[1;33m,\u001b[0m \u001b[0msorted_data\u001b[0m\u001b[1;33m[\u001b[0m\u001b[1;36m0\u001b[0m\u001b[1;33m]\u001b[0m\u001b[1;33m[\u001b[0m\u001b[1;36m5\u001b[0m\u001b[1;33m]\u001b[0m\u001b[1;33m,\u001b[0m \u001b[0mday_i\u001b[0m\u001b[1;33m,\u001b[0m \u001b[0mday_f\u001b[0m\u001b[1;33m,\u001b[0m \u001b[0mCNormal\u001b[0m\u001b[1;33m,\u001b[0m \u001b[0mCInfect\u001b[0m\u001b[1;33m,\u001b[0m \u001b[0mCHeal\u001b[0m\u001b[1;33m,\u001b[0m \u001b[0mCNet\u001b[0m\u001b[1;33m,\u001b[0m \u001b[0mCFound\u001b[0m\u001b[1;33m,\u001b[0m \u001b[1;32mTrue\u001b[0m\u001b[1;33m,\u001b[0m \u001b[1;32mTrue\u001b[0m\u001b[1;33m)\u001b[0m\u001b[1;33m\u001b[0m\u001b[1;33m\u001b[0m\u001b[0m\n\u001b[0m",
      "\u001b[1;32m<ipython-input-67-e4cfdfa0816f>\u001b[0m in \u001b[0;36mmodel\u001b[1;34m(f_rate, meeting, Rh, Rm, Rr, day_i, day_f, normal, infect, heal, net, found, plot, fit)\u001b[0m\n\u001b[0;32m     81\u001b[0m     \u001b[1;32mif\u001b[0m \u001b[0mplot\u001b[0m\u001b[1;33m==\u001b[0m\u001b[1;32mTrue\u001b[0m\u001b[1;33m:\u001b[0m\u001b[1;33m\u001b[0m\u001b[1;33m\u001b[0m\u001b[0m\n\u001b[0;32m     82\u001b[0m         \u001b[1;31m#plt.plot(day,Normal_sum,'-',label =\"Normal\")\u001b[0m\u001b[1;33m\u001b[0m\u001b[1;33m\u001b[0m\u001b[1;33m\u001b[0m\u001b[0m\n\u001b[1;32m---> 83\u001b[1;33m         \u001b[0mplt\u001b[0m\u001b[1;33m.\u001b[0m\u001b[0mplot\u001b[0m\u001b[1;33m(\u001b[0m\u001b[0mday\u001b[0m\u001b[1;33m,\u001b[0m\u001b[0mInfect_sum\u001b[0m\u001b[1;33m,\u001b[0m\u001b[1;34m'-'\u001b[0m\u001b[1;33m,\u001b[0m\u001b[0mlabel\u001b[0m \u001b[1;33m=\u001b[0m\u001b[1;34m\"Infected\"\u001b[0m\u001b[1;33m)\u001b[0m\u001b[1;33m\u001b[0m\u001b[1;33m\u001b[0m\u001b[0m\n\u001b[0m\u001b[0;32m     84\u001b[0m         \u001b[0mplt\u001b[0m\u001b[1;33m.\u001b[0m\u001b[0mplot\u001b[0m\u001b[1;33m(\u001b[0m\u001b[0mday\u001b[0m\u001b[1;33m,\u001b[0m\u001b[0mHeal_sum\u001b[0m\u001b[1;33m,\u001b[0m\u001b[1;34m'-'\u001b[0m\u001b[1;33m,\u001b[0m\u001b[0mlabel\u001b[0m \u001b[1;33m=\u001b[0m\u001b[1;34m\"Healed\"\u001b[0m\u001b[1;33m)\u001b[0m\u001b[1;33m\u001b[0m\u001b[1;33m\u001b[0m\u001b[0m\n\u001b[0;32m     85\u001b[0m         \u001b[0mplt\u001b[0m\u001b[1;33m.\u001b[0m\u001b[0mplot\u001b[0m\u001b[1;33m(\u001b[0m\u001b[0mday\u001b[0m\u001b[1;33m,\u001b[0m\u001b[0mNet_sum\u001b[0m\u001b[1;33m,\u001b[0m\u001b[1;34m'-'\u001b[0m\u001b[1;33m,\u001b[0m\u001b[0mlabel\u001b[0m \u001b[1;33m=\u001b[0m\u001b[1;34m\"Net\"\u001b[0m\u001b[1;33m)\u001b[0m\u001b[1;33m\u001b[0m\u001b[1;33m\u001b[0m\u001b[0m\n",
      "\u001b[1;32m~\\Anaconda3\\lib\\site-packages\\matplotlib\\pyplot.py\u001b[0m in \u001b[0;36mplot\u001b[1;34m(scalex, scaley, data, *args, **kwargs)\u001b[0m\n\u001b[0;32m   2793\u001b[0m     return gca().plot(\n\u001b[0;32m   2794\u001b[0m         *args, scalex=scalex, scaley=scaley, **({\"data\": data} if data\n\u001b[1;32m-> 2795\u001b[1;33m         is not None else {}), **kwargs)\n\u001b[0m\u001b[0;32m   2796\u001b[0m \u001b[1;33m\u001b[0m\u001b[0m\n\u001b[0;32m   2797\u001b[0m \u001b[1;33m\u001b[0m\u001b[0m\n",
      "\u001b[1;32m~\\Anaconda3\\lib\\site-packages\\matplotlib\\axes\\_axes.py\u001b[0m in \u001b[0;36mplot\u001b[1;34m(self, scalex, scaley, data, *args, **kwargs)\u001b[0m\n\u001b[0;32m   1664\u001b[0m         \"\"\"\n\u001b[0;32m   1665\u001b[0m         \u001b[0mkwargs\u001b[0m \u001b[1;33m=\u001b[0m \u001b[0mcbook\u001b[0m\u001b[1;33m.\u001b[0m\u001b[0mnormalize_kwargs\u001b[0m\u001b[1;33m(\u001b[0m\u001b[0mkwargs\u001b[0m\u001b[1;33m,\u001b[0m \u001b[0mmlines\u001b[0m\u001b[1;33m.\u001b[0m\u001b[0mLine2D\u001b[0m\u001b[1;33m.\u001b[0m\u001b[0m_alias_map\u001b[0m\u001b[1;33m)\u001b[0m\u001b[1;33m\u001b[0m\u001b[1;33m\u001b[0m\u001b[0m\n\u001b[1;32m-> 1666\u001b[1;33m         \u001b[0mlines\u001b[0m \u001b[1;33m=\u001b[0m \u001b[1;33m[\u001b[0m\u001b[1;33m*\u001b[0m\u001b[0mself\u001b[0m\u001b[1;33m.\u001b[0m\u001b[0m_get_lines\u001b[0m\u001b[1;33m(\u001b[0m\u001b[1;33m*\u001b[0m\u001b[0margs\u001b[0m\u001b[1;33m,\u001b[0m \u001b[0mdata\u001b[0m\u001b[1;33m=\u001b[0m\u001b[0mdata\u001b[0m\u001b[1;33m,\u001b[0m \u001b[1;33m**\u001b[0m\u001b[0mkwargs\u001b[0m\u001b[1;33m)\u001b[0m\u001b[1;33m]\u001b[0m\u001b[1;33m\u001b[0m\u001b[1;33m\u001b[0m\u001b[0m\n\u001b[0m\u001b[0;32m   1667\u001b[0m         \u001b[1;32mfor\u001b[0m \u001b[0mline\u001b[0m \u001b[1;32min\u001b[0m \u001b[0mlines\u001b[0m\u001b[1;33m:\u001b[0m\u001b[1;33m\u001b[0m\u001b[1;33m\u001b[0m\u001b[0m\n\u001b[0;32m   1668\u001b[0m             \u001b[0mself\u001b[0m\u001b[1;33m.\u001b[0m\u001b[0madd_line\u001b[0m\u001b[1;33m(\u001b[0m\u001b[0mline\u001b[0m\u001b[1;33m)\u001b[0m\u001b[1;33m\u001b[0m\u001b[1;33m\u001b[0m\u001b[0m\n",
      "\u001b[1;32m~\\Anaconda3\\lib\\site-packages\\matplotlib\\axes\\_base.py\u001b[0m in \u001b[0;36m__call__\u001b[1;34m(self, *args, **kwargs)\u001b[0m\n\u001b[0;32m    223\u001b[0m                 \u001b[0mthis\u001b[0m \u001b[1;33m+=\u001b[0m \u001b[0margs\u001b[0m\u001b[1;33m[\u001b[0m\u001b[1;36m0\u001b[0m\u001b[1;33m]\u001b[0m\u001b[1;33m,\u001b[0m\u001b[1;33m\u001b[0m\u001b[1;33m\u001b[0m\u001b[0m\n\u001b[0;32m    224\u001b[0m                 \u001b[0margs\u001b[0m \u001b[1;33m=\u001b[0m \u001b[0margs\u001b[0m\u001b[1;33m[\u001b[0m\u001b[1;36m1\u001b[0m\u001b[1;33m:\u001b[0m\u001b[1;33m]\u001b[0m\u001b[1;33m\u001b[0m\u001b[1;33m\u001b[0m\u001b[0m\n\u001b[1;32m--> 225\u001b[1;33m             \u001b[1;32myield\u001b[0m \u001b[1;32mfrom\u001b[0m \u001b[0mself\u001b[0m\u001b[1;33m.\u001b[0m\u001b[0m_plot_args\u001b[0m\u001b[1;33m(\u001b[0m\u001b[0mthis\u001b[0m\u001b[1;33m,\u001b[0m \u001b[0mkwargs\u001b[0m\u001b[1;33m)\u001b[0m\u001b[1;33m\u001b[0m\u001b[1;33m\u001b[0m\u001b[0m\n\u001b[0m\u001b[0;32m    226\u001b[0m \u001b[1;33m\u001b[0m\u001b[0m\n\u001b[0;32m    227\u001b[0m     \u001b[1;32mdef\u001b[0m \u001b[0mget_next_color\u001b[0m\u001b[1;33m(\u001b[0m\u001b[0mself\u001b[0m\u001b[1;33m)\u001b[0m\u001b[1;33m:\u001b[0m\u001b[1;33m\u001b[0m\u001b[1;33m\u001b[0m\u001b[0m\n",
      "\u001b[1;32m~\\Anaconda3\\lib\\site-packages\\matplotlib\\axes\\_base.py\u001b[0m in \u001b[0;36m_plot_args\u001b[1;34m(self, tup, kwargs)\u001b[0m\n\u001b[0;32m    389\u001b[0m             \u001b[0mx\u001b[0m\u001b[1;33m,\u001b[0m \u001b[0my\u001b[0m \u001b[1;33m=\u001b[0m \u001b[0mindex_of\u001b[0m\u001b[1;33m(\u001b[0m\u001b[0mtup\u001b[0m\u001b[1;33m[\u001b[0m\u001b[1;33m-\u001b[0m\u001b[1;36m1\u001b[0m\u001b[1;33m]\u001b[0m\u001b[1;33m)\u001b[0m\u001b[1;33m\u001b[0m\u001b[1;33m\u001b[0m\u001b[0m\n\u001b[0;32m    390\u001b[0m \u001b[1;33m\u001b[0m\u001b[0m\n\u001b[1;32m--> 391\u001b[1;33m         \u001b[0mx\u001b[0m\u001b[1;33m,\u001b[0m \u001b[0my\u001b[0m \u001b[1;33m=\u001b[0m \u001b[0mself\u001b[0m\u001b[1;33m.\u001b[0m\u001b[0m_xy_from_xy\u001b[0m\u001b[1;33m(\u001b[0m\u001b[0mx\u001b[0m\u001b[1;33m,\u001b[0m \u001b[0my\u001b[0m\u001b[1;33m)\u001b[0m\u001b[1;33m\u001b[0m\u001b[1;33m\u001b[0m\u001b[0m\n\u001b[0m\u001b[0;32m    392\u001b[0m \u001b[1;33m\u001b[0m\u001b[0m\n\u001b[0;32m    393\u001b[0m         \u001b[1;32mif\u001b[0m \u001b[0mself\u001b[0m\u001b[1;33m.\u001b[0m\u001b[0mcommand\u001b[0m \u001b[1;33m==\u001b[0m \u001b[1;34m'plot'\u001b[0m\u001b[1;33m:\u001b[0m\u001b[1;33m\u001b[0m\u001b[1;33m\u001b[0m\u001b[0m\n",
      "\u001b[1;32m~\\Anaconda3\\lib\\site-packages\\matplotlib\\axes\\_base.py\u001b[0m in \u001b[0;36m_xy_from_xy\u001b[1;34m(self, x, y)\u001b[0m\n\u001b[0;32m    268\u001b[0m         \u001b[1;32mif\u001b[0m \u001b[0mx\u001b[0m\u001b[1;33m.\u001b[0m\u001b[0mshape\u001b[0m\u001b[1;33m[\u001b[0m\u001b[1;36m0\u001b[0m\u001b[1;33m]\u001b[0m \u001b[1;33m!=\u001b[0m \u001b[0my\u001b[0m\u001b[1;33m.\u001b[0m\u001b[0mshape\u001b[0m\u001b[1;33m[\u001b[0m\u001b[1;36m0\u001b[0m\u001b[1;33m]\u001b[0m\u001b[1;33m:\u001b[0m\u001b[1;33m\u001b[0m\u001b[1;33m\u001b[0m\u001b[0m\n\u001b[0;32m    269\u001b[0m             raise ValueError(\"x and y must have same first dimension, but \"\n\u001b[1;32m--> 270\u001b[1;33m                              \"have shapes {} and {}\".format(x.shape, y.shape))\n\u001b[0m\u001b[0;32m    271\u001b[0m         \u001b[1;32mif\u001b[0m \u001b[0mx\u001b[0m\u001b[1;33m.\u001b[0m\u001b[0mndim\u001b[0m \u001b[1;33m>\u001b[0m \u001b[1;36m2\u001b[0m \u001b[1;32mor\u001b[0m \u001b[0my\u001b[0m\u001b[1;33m.\u001b[0m\u001b[0mndim\u001b[0m \u001b[1;33m>\u001b[0m \u001b[1;36m2\u001b[0m\u001b[1;33m:\u001b[0m\u001b[1;33m\u001b[0m\u001b[1;33m\u001b[0m\u001b[0m\n\u001b[0;32m    272\u001b[0m             raise ValueError(\"x and y can be no greater than 2-D, but have \"\n",
      "\u001b[1;31mValueError\u001b[0m: x and y must have same first dimension, but have shapes (21,) and (30,)"
     ]
    },
    {
     "data": {
      "image/png": "[encoded data removed]",
      "text/plain": [
       "<Figure size 432x288 with 1 Axes>"
      ]
     },
     "metadata": {
      "needs_background": "light"
     },
     "output_type": "display_data"
    }
   ],
   "source": [
    "# step 2 day 8 to day 13\n",
    "day_i = 11; day_f = 20\n",
    "f_rate_s  = np.arange(0.05,0.20,0.05)\n",
    "meeting_s = np.arange(3,11,1)\n",
    "Rh_s      = np.arange(0.01,0.03,0.01)\n",
    "Rm_s      = np.arange(0.1,0.3,0.1)\n",
    "Rr_s      = np.arange(0.3,0.5,0.1)\n",
    "params, [MAE, CNormal, CInfect, CHeal, CNet, CFound] = fit(f_rate_s,meeting_s,Rh_s,Rm_s,Rr_s,day_i,day_f, CNormal, CInfect, CHeal, CNet, CFound)"
   ]
  },
  {
   "cell_type": "code",
   "execution_count": 3,
   "metadata": {
    "scrolled": true
   },
   "outputs": [
    {
     "ename": "NameError",
     "evalue": "name 'np' is not defined",
     "output_type": "error",
     "traceback": [
      "\u001b[1;31m---------------------------------------------------------------------------\u001b[0m",
      "\u001b[1;31mNameError\u001b[0m                                 Traceback (most recent call last)",
      "\u001b[1;32m<ipython-input-3-26a9a5aa57c1>\u001b[0m in \u001b[0;36m<module>\u001b[1;34m\u001b[0m\n\u001b[0;32m      1\u001b[0m \u001b[1;31m# step 3 day 14 to day 19\u001b[0m\u001b[1;33m\u001b[0m\u001b[1;33m\u001b[0m\u001b[1;33m\u001b[0m\u001b[0m\n\u001b[0;32m      2\u001b[0m \u001b[0mday_i\u001b[0m \u001b[1;33m=\u001b[0m \u001b[1;36m21\u001b[0m\u001b[1;33m;\u001b[0m \u001b[0mday_f\u001b[0m \u001b[1;33m=\u001b[0m \u001b[1;36m44\u001b[0m\u001b[1;33m\u001b[0m\u001b[1;33m\u001b[0m\u001b[0m\n\u001b[1;32m----> 3\u001b[1;33m \u001b[0mf_rate_s\u001b[0m  \u001b[1;33m=\u001b[0m \u001b[0mnp\u001b[0m\u001b[1;33m.\u001b[0m\u001b[0marange\u001b[0m\u001b[1;33m(\u001b[0m\u001b[1;36m0.05\u001b[0m\u001b[1;33m,\u001b[0m\u001b[1;36m0.3\u001b[0m\u001b[1;33m,\u001b[0m\u001b[1;36m0.05\u001b[0m\u001b[1;33m)\u001b[0m\u001b[1;33m\u001b[0m\u001b[1;33m\u001b[0m\u001b[0m\n\u001b[0m\u001b[0;32m      4\u001b[0m \u001b[0mmeeting_s\u001b[0m \u001b[1;33m=\u001b[0m \u001b[0mnp\u001b[0m\u001b[1;33m.\u001b[0m\u001b[0marange\u001b[0m\u001b[1;33m(\u001b[0m\u001b[1;36m3\u001b[0m\u001b[1;33m,\u001b[0m\u001b[1;36m11\u001b[0m\u001b[1;33m,\u001b[0m\u001b[1;36m1\u001b[0m\u001b[1;33m)\u001b[0m\u001b[1;33m\u001b[0m\u001b[1;33m\u001b[0m\u001b[0m\n\u001b[0;32m      5\u001b[0m \u001b[0mRh_s\u001b[0m      \u001b[1;33m=\u001b[0m \u001b[0mnp\u001b[0m\u001b[1;33m.\u001b[0m\u001b[0marange\u001b[0m\u001b[1;33m(\u001b[0m\u001b[1;36m0.01\u001b[0m\u001b[1;33m,\u001b[0m\u001b[1;36m0.03\u001b[0m\u001b[1;33m,\u001b[0m\u001b[1;36m0.01\u001b[0m\u001b[1;33m)\u001b[0m\u001b[1;33m\u001b[0m\u001b[1;33m\u001b[0m\u001b[0m\n",
      "\u001b[1;31mNameError\u001b[0m: name 'np' is not defined"
     ]
    }
   ],
   "source": [
    "# step 3 day 14 to day 19\n",
    "day_i = 21; day_f = 44\n",
    "f_rate_s  = np.arange(0.05,0.3,0.05)\n",
    "meeting_s = np.arange(3,11,1)\n",
    "Rh_s      = np.arange(0.01,0.03,0.01)\n",
    "Rm_s      = np.arange(0.1,0.3,0.1)\n",
    "Rr_s      = np.arange(0.1,0.5,0.1)\n",
    "params, [MAE, CNormal, CInfect, CHeal, CNet, CFound] = fit(f_rate_s,meeting_s,Rh_s,Rm_s,Rr_s,day_i,day_f, CNormal, CInfect, CHeal, CNet, CFound)"
   ]
  },
  {
   "cell_type": "code",
   "execution_count": 4,
   "metadata": {},
   "outputs": [
    {
     "ename": "NameError",
     "evalue": "name 'np' is not defined",
     "output_type": "error",
     "traceback": [
      "\u001b[1;31m---------------------------------------------------------------------------\u001b[0m",
      "\u001b[1;31mNameError\u001b[0m                                 Traceback (most recent call last)",
      "\u001b[1;32m<ipython-input-4-8cf5903a827a>\u001b[0m in \u001b[0;36m<module>\u001b[1;34m\u001b[0m\n\u001b[0;32m      1\u001b[0m \u001b[1;31m# step 3 day 14 to day 19\u001b[0m\u001b[1;33m\u001b[0m\u001b[1;33m\u001b[0m\u001b[1;33m\u001b[0m\u001b[0m\n\u001b[0;32m      2\u001b[0m \u001b[0mday_i\u001b[0m \u001b[1;33m=\u001b[0m \u001b[1;36m45\u001b[0m\u001b[1;33m;\u001b[0m \u001b[0mday_f\u001b[0m \u001b[1;33m=\u001b[0m \u001b[1;36m54\u001b[0m\u001b[1;33m\u001b[0m\u001b[1;33m\u001b[0m\u001b[0m\n\u001b[1;32m----> 3\u001b[1;33m \u001b[0mf_rate_s\u001b[0m  \u001b[1;33m=\u001b[0m \u001b[0mnp\u001b[0m\u001b[1;33m.\u001b[0m\u001b[0marange\u001b[0m\u001b[1;33m(\u001b[0m\u001b[1;36m0.05\u001b[0m\u001b[1;33m,\u001b[0m\u001b[1;36m0.3\u001b[0m\u001b[1;33m,\u001b[0m\u001b[1;36m0.05\u001b[0m\u001b[1;33m)\u001b[0m\u001b[1;33m\u001b[0m\u001b[1;33m\u001b[0m\u001b[0m\n\u001b[0m\u001b[0;32m      4\u001b[0m \u001b[0mmeeting_s\u001b[0m \u001b[1;33m=\u001b[0m \u001b[0mnp\u001b[0m\u001b[1;33m.\u001b[0m\u001b[0marange\u001b[0m\u001b[1;33m(\u001b[0m\u001b[1;36m3\u001b[0m\u001b[1;33m,\u001b[0m\u001b[1;36m11\u001b[0m\u001b[1;33m,\u001b[0m\u001b[1;36m1\u001b[0m\u001b[1;33m)\u001b[0m\u001b[1;33m\u001b[0m\u001b[1;33m\u001b[0m\u001b[0m\n\u001b[0;32m      5\u001b[0m \u001b[0mRh_s\u001b[0m      \u001b[1;33m=\u001b[0m \u001b[0mnp\u001b[0m\u001b[1;33m.\u001b[0m\u001b[0marange\u001b[0m\u001b[1;33m(\u001b[0m\u001b[1;36m0.01\u001b[0m\u001b[1;33m,\u001b[0m\u001b[1;36m0.03\u001b[0m\u001b[1;33m,\u001b[0m\u001b[1;36m0.01\u001b[0m\u001b[1;33m)\u001b[0m\u001b[1;33m\u001b[0m\u001b[1;33m\u001b[0m\u001b[0m\n",
      "\u001b[1;31mNameError\u001b[0m: name 'np' is not defined"
     ]
    }
   ],
   "source": [
    "# step 3 day 14 to day 19\n",
    "day_i = 45; day_f = 54\n",
    "f_rate_s  = np.arange(0.05,0.3,0.05)\n",
    "meeting_s = np.arange(3,11,1)\n",
    "Rh_s      = np.arange(0.01,0.03,0.01)\n",
    "Rm_s      = np.arange(0.1,0.3,0.1)\n",
    "Rr_s      = np.arange(0.1,0.5,0.1)\n",
    "params, [MAE, CNormal, CInfect, CHeal, CNet, CFound] = fit(f_rate_s,meeting_s,Rh_s,Rm_s,Rr_s,day_i,day_f, CNormal, CInfect, CHeal, CNet, CFound)"
   ]
  },
  {
   "cell_type": "code",
   "execution_count": 96,
   "metadata": {},
   "outputs": [
    {
     "name": "stdout",
     "output_type": "stream",
     "text": [
      "[45.71242884923312, 0.25, 4, 0.02, 0.2, 0.4]\n"
     ]
    },
    {
     "data": {
      "image/png": "[encoded data removed]",
      "text/plain": [
       "<Figure size 432x288 with 1 Axes>"
      ]
     },
     "metadata": {
      "needs_background": "light"
     },
     "output_type": "display_data"
    }
   ],
   "source": [
    "### prediction\n",
    "day_i = 55; day_f = 270\n",
    "print(params)\n",
    "use_last_fitting = False   # True or False\n",
    "if use_last_fitting:\n",
    "    ### from last fitting\n",
    "    f_rate = params[1]\n",
    "    meeting= params[2]\n",
    "    Rh     = params[3]\n",
    "    Rm     = params[4]\n",
    "    Rr     = params[5]\n",
    "else:\n",
    "    ### new input\n",
    "    f_rate = 0.5\n",
    "    meeting= 7\n",
    "    Rh     = 0.02\n",
    "    Rm     = 0.1\n",
    "    Rr     = 0.2\n",
    "_,_,_,_,_ = model(f_rate, meeting, Rh, Rm, Rr, day_i, day_f, CNormal, CInfect, CHeal, CNet, CFound, plot=True, fit=False)\n",
    "\n"
   ]
  },
  {
   "cell_type": "code",
   "execution_count": null,
   "metadata": {},
   "outputs": [],
   "source": []
  },
  {
   "cell_type": "code",
   "execution_count": null,
   "metadata": {},
   "outputs": [],
   "source": []
  },
  {
   "cell_type": "code",
   "execution_count": null,
   "metadata": {},
   "outputs": [],
   "source": []
  }
 ],
 "metadata": {
  "kernelspec": {
   "display_name": "Python 3",
   "language": "python",
   "name": "python3"
  },
  "language_info": {
   "codemirror_mode": {
    "name": "ipython",
    "version": 3
   },
   "file_extension": ".py",
   "mimetype": "text/x-python",
   "name": "python",
   "nbconvert_exporter": "python",
   "pygments_lexer": "ipython3",
   "version": "3.7.4"
  }
 },
 "nbformat": 4,
 "nbformat_minor": 2
}
