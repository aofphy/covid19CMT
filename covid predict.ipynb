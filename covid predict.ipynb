{
 "cells": [
  {
   "cell_type": "code",
   "execution_count": 398,
   "metadata": {},
   "outputs": [],
   "source": [
    "# -*- coding: utf-8 -*-\n",
    "\"\"\"\n",
    "Created on Sun Mar 22 13:11:24 2020\n",
    "\n",
    "@author: Lappawat\n",
    "\"\"\"\n",
    "import numpy as np\n",
    "import matplotlib.pyplot as plt\n",
    "\n",
    "### Real data\n",
    "real_infected = [100,103,106,113,115,124,141,146,147,177,212,272,322,411,599,721]\n",
    "date = np.arange(0,len(real_infected))\n",
    "\n",
    "\n"
   ]
  },
  {
   "cell_type": "code",
   "execution_count": 399,
   "metadata": {},
   "outputs": [
    {
     "name": "stdout",
     "output_type": "stream",
     "text": [
      "[5.9999910e+06 1.1999983e+07 2.3999952e+07 1.7999974e+07 1.0000000e+02]\n"
     ]
    }
   ],
   "source": [
    "############### Parameters ##########################\n",
    "infected  = 100   # initial infected people\n",
    "length    = 365     # predicted length (days)\n",
    "meeting   = 15    # 1 infected people can meet 20 people\n",
    "threshold = 3     # if covid_test score more than threshold, then he will be infected\n",
    "healed_day= 21       # infected people will be healed in 7 days after being infected\n",
    "\n",
    "Pop_total = 60000000\n",
    "Pop_type  = [0,1,2,3,4]\n",
    "Pop_ratio = [0.1,0.2,0.4,0.3] # population in each classes\n",
    "#R_lst     = [0.1,0.3,1.2,2.2,0.0] contact rate\n",
    "R_lst     = [0.1,0.3,0.2,2.0,0.0] # contact rate\n",
    "# Define 5 classes of people depending on how to response\n",
    "# 0 H = (Highy responsible)\n",
    "# 1 M = (Moderately responsible)\n",
    "# 2 N = (Normal)\n",
    "# 3 R = (Risky)\n",
    "# 4 I = (Infected/Immuned)\n",
    "\n",
    "Pop       = np.array(Pop_ratio)*Pop_total\n",
    "Pop       = np.append(Pop,0)\n",
    "#print(Pop)\n",
    "covid_type_last_day= np.random.choice([0,1,2,3],size=infected,p=Pop_ratio)\n",
    "for i in covid_type_last_day:\n",
    "    Pop[i]=Pop[i]-1 \n",
    "    Pop[4]=Pop[4]+1\n",
    "print(Pop)\n",
    "Pop_ratio = Pop/Pop_total\n",
    "#print(Pop_ratio)"
   ]
  },
  {
   "cell_type": "code",
   "execution_count": 400,
   "metadata": {},
   "outputs": [],
   "source": [
    "#zeroth day\n",
    "day = [0]\n",
    "covid_infected_day = [infected]\n",
    "covid_infected_tot = [infected]\n",
    "covid_healed_day   = [0]\n",
    "covid_healed_tot   = [0]\n",
    "covid_tot          = [infected]\n",
    "\n",
    "#begin model\n",
    "for i in range(length):\n",
    "    #print(Pop)\n",
    "    #print(covid_type_last_day)\n",
    "    # Model the meeting between infected people and other people\n",
    "    covid_type_today = []   # Today cases\n",
    "    for j in range(len(covid_type_last_day)):\n",
    "        ## transmitter\n",
    "        T_type = covid_type_last_day[j]\n",
    "        Rt     = R_lst[T_type]\n",
    "        for k in range(meeting):\n",
    "            ## receptor\n",
    "            R_type = np.random.choice(Pop_type,p=Pop_ratio)\n",
    "            Rr = R_lst[R_type]\n",
    "            # meeting\n",
    "            covid_test = Rt * Rr * np.random.uniform(0,1)\n",
    "            #print(T_type, R_type, covid_test)\n",
    "            if covid_test > threshold:\n",
    "                Pop[R_type] = Pop[R_type]-1\n",
    "                Pop[4] = Pop[4]+1\n",
    "                Pop_ratio = Pop/Pop_total\n",
    "                covid_type_today.append(R_type)\n",
    "    \n",
    "    #i_th day\n",
    "    day.append(i+1)\n",
    "    \n",
    "    # infected cases\n",
    "    covid_type_last_day = covid_type_today \n",
    "    covid_infected_day.append(len(covid_type_today))\n",
    "    covid_infected_tot.append(covid_infected_tot[-1]+covid_infected_day[-1])\n",
    "    \n",
    "    # healed cases\n",
    "    if i< healed_day:\n",
    "        covid_healed_day.append(0) \n",
    "    else:\n",
    "        covid_healed_day.append(covid_infected_day[i-healed_day])  # healed people\n",
    "    covid_healed_tot.append(covid_healed_tot[-1]+covid_healed_day[-1])\n",
    "    \n",
    "    # net cases\n",
    "    covid_tot.append(covid_infected_tot[-1]-covid_healed_tot[-1])     \n",
    "    "
   ]
  },
  {
   "cell_type": "code",
   "execution_count": 401,
   "metadata": {
    "scrolled": true
   },
   "outputs": [
    {
     "data": {
      "image/png": "[encoded data removed]",
      "text/plain": [
       "<Figure size 432x288 with 1 Axes>"
      ]
     },
     "metadata": {
      "needs_background": "light"
     },
     "output_type": "display_data"
    }
   ],
   "source": [
    "plt.plot(date, real_infected, 'ro', label='real')\n",
    "plt.plot(day,covid_infected_tot,'-',label =\"infected\")\n",
    "plt.plot(day,covid_healed_tot,'-',label =\"healed\")\n",
    "plt.plot(day,covid_tot,'-',label =\"net\")\n",
    "plt.xlabel('day')\n",
    "plt.ylabel('people')\n",
    "plt.legend()\n",
    "plt.show()\n",
    "\n",
    "    "
   ]
  },
  {
   "cell_type": "code",
   "execution_count": null,
   "metadata": {},
   "outputs": [],
   "source": []
  },
  {
   "cell_type": "code",
   "execution_count": null,
   "metadata": {},
   "outputs": [],
   "source": []
  }
 ],
 "metadata": {
  "kernelspec": {
   "display_name": "Python 3",
   "language": "python",
   "name": "python3"
  },
  "language_info": {
   "codemirror_mode": {
    "name": "ipython",
    "version": 3
   },
   "file_extension": ".py",
   "mimetype": "text/x-python",
   "name": "python",
   "nbconvert_exporter": "python",
   "pygments_lexer": "ipython3",
   "version": "3.7.4"
  }
 },
 "nbformat": 4,
 "nbformat_minor": 2
}
