{
 "cells": [
  {
   "cell_type": "code",
   "execution_count": 10,
   "metadata": {},
   "outputs": [],
   "source": [
    "import numpy as np\n",
    "import random \n",
    "import matplotlib.pyplot as plt\n",
    "import copy\n",
    "from mpl_toolkits import mplot3d\n",
    "import pandas as pd"
   ]
  },
  {
   "cell_type": "code",
   "execution_count": 11,
   "metadata": {},
   "outputs": [],
   "source": [
    "real_infected = np.array([100,103,106,113,115,124,141,146,147,177,212,272,322,411,599,721,827,934,1045,1136,1245])\n",
    "#df = pd.read_csv('out1.csv')\n",
    "#real_infected=df['number of Infect'].values.tolist()\n",
    "#real_infected=real_infected[10:]\n",
    "date = np.arange(0,len(real_infected))"
   ]
  },
  {
   "cell_type": "code",
   "execution_count": 12,
   "metadata": {},
   "outputs": [],
   "source": [
    "############### Parameters ##########################\n",
    "Pop        = 6E7\n",
    "#length     = 20      # predicted length (days)\n",
    "healed_day = 21     # infected people will be healed in 21 days after being infected"
   ]
  },
  {
   "cell_type": "code",
   "execution_count": 19,
   "metadata": {},
   "outputs": [],
   "source": [
    "def model(f_rate, meeting, R, day_i, day_f, normal, infect, heal, net, found, plot=False, fit=True):\n",
    "    ## model infection from day_i to day_f and calculate MAE \n",
    "    \n",
    "    # Fitting parameters\n",
    "    # f_rate      :found rate\n",
    "    # meeting     :1 infected people can meet <meeting> people\n",
    "    # R  :transfered rate\n",
    "    # normal, infect, heal, net : day_i\n",
    "    \n",
    "    R_lst    = R # transfered rate\n",
    "    if day_i == 0:\n",
    "        day      = [0]\n",
    "        init_infect = real_infected[0]/f_rate        # initial infected people\n",
    "        #..............................#\n",
    "        Normal   = [Pop-init_infect]       # never being infected\n",
    "        Infect   = [init_infect]           # sum of being infected and used to\n",
    "        Heal     = [0]                     # be healed\n",
    "        Net      = [Infect[0] - Heal[0]]   # still being infected\n",
    "        Found    = [init_infect*f_rate]    # infect * found_rate\n",
    "        day_i = 1\n",
    "    else:\n",
    "        day   =list(range(day_i))\n",
    "        Normal=copy.deepcopy(normal)\n",
    "        Infect=copy.deepcopy(infect)\n",
    "        Heal  =copy.deepcopy(heal)\n",
    "        Net   =copy.deepcopy(net)\n",
    "        Found =copy.deepcopy(found)\n",
    "    \n",
    "    #begin modeling\n",
    "    for i in range(day_i,day_f+1):\n",
    "        day.append(i)\n",
    "        \n",
    "        ### update total infected people\n",
    "        new_infect = 0\n",
    "        Rate  = R_lst*R_lst*meeting\n",
    "        new_infect = new_infect + Rate*Net[-1]*Normal[-1]/Pop\n",
    "        Infect.append(Infect[-1] + new_infect)\n",
    "\n",
    "        ### update found people\n",
    "        Found.append(Found[-1]+new_infect*f_rate)\n",
    "\n",
    "        ### update normal people\n",
    "        Normal.append(Normal[-1]-new_infect)\n",
    "\n",
    "        ### update healed people\n",
    "        if i < healed_day:\n",
    "            new_healed = 0\n",
    "        elif i == healed_day:\n",
    "            new_healed = Infect[0]\n",
    "        else:\n",
    "            new_healed = Infect[-1-healed_day]-Infect[-1-healed_day-1]\n",
    "        Heal.append(Heal[-1]+new_healed)\n",
    "\n",
    "        ### update net\n",
    "        Net.append(Infect[-1]-Heal[-1])\n",
    "        ##print('day: %2d Normal: %10.1f Infected: %10.1f Healed: %10.1f Net: %10.1f //%10.1f' %(i,Normal[-1],Infect[-1],Heal[-1],Net[-1],new_infect))\n",
    "        \n",
    "    if plot==True:\n",
    "        #plt.plot(day,Normal,'-',label =\"Normal\")\n",
    "        #plt.plot(day,Infect,'-',label =\"Infected\")\n",
    "        #plt.plot(day,Heal,'-',label =\"Healed\")\n",
    "        #plt.plot(day,Net,'-',label =\"Net\")\n",
    "        plt.plot(day,Found,'-',label =\"Found\")\n",
    "        plt.plot(date,real_infected,'ro', label='real') \n",
    "        #plt.ylim([0,Found[-1]*1.2])\n",
    "        #plt.xlim([0,day_f*1.2])\n",
    "        plt.xlabel('day')\n",
    "        plt.ylabel('people')\n",
    "        plt.legend()\n",
    "        plt.show()\n",
    "    if fit == True:\n",
    "        ### Calculate MAE\n",
    "        AE=0\n",
    "        for i in range(day_i,day_f+1):\n",
    "            AE=AE+abs(Found[i]-real_infected[i])\n",
    "        MAE = AE/(day_f-day_i+1)\n",
    "        #print(\"%10.4f\" %MAE)\n",
    "\n",
    "        return MAE, Normal, Infect, Heal, Net, Found\n",
    "    else:\n",
    "        return Normal, Infect, Heal, Net, Found"
   ]
  },
  {
   "cell_type": "code",
   "execution_count": 20,
   "metadata": {},
   "outputs": [],
   "source": [
    "### fitting from day_i to day_f\n",
    "def fit(f_rate_s,meeting_s,R_s,day_i, day_f, CNormal, CInfect, CHeal, CNet, CFound):\n",
    "    data = []\n",
    "    for f_rate in f_rate_s:\n",
    "        for meeting in meeting_s:\n",
    "            for R in R_s:\n",
    "                normal = copy.deepcopy(CNormal)\n",
    "                infect = copy.deepcopy(CInfect)\n",
    "                heal   = copy.deepcopy(CHeal)\n",
    "                net    = copy.deepcopy(CNet)\n",
    "                found  = copy.deepcopy(CFound)\n",
    "                MAE, _, _, _, _, _ = model(f_rate, meeting, R, day_i, day_f,normal,infect,heal,net,found,plot=False,fit=True)\n",
    "                #print('%6.2f %6.2f %4.1f %6.3f %6.3f %6.3f' %(MAE,f_rate,meeting,R))\n",
    "                data.append([MAE, f_rate,meeting,R])\n",
    "    sorted_data = sorted(data,key=lambda x: x[0])\n",
    "    print('\\nThe top 10 best fitted parameters')\n",
    "    print('  MAE  f_rate Meeting  R')\n",
    "    for i in range(10):\n",
    "        print('%6.2f %6.2f %4.1f %6.3f' %(sorted_data[i][0],sorted_data[i][1],sorted_data[i][2],sorted_data[i][3]))\n",
    "    print('\\nPlotting for the best fitting')\n",
    "    print('  MAE  f_rate Meeting  R')\n",
    "    print('%6.2f %6.2f %4.1f %6.3f' %(sorted_data[0][0],sorted_data[0][1],sorted_data[0][2],sorted_data[0][3]))\n",
    "    return sorted_data[0],model(sorted_data[0][1], sorted_data[0][2], sorted_data[0][3], day_i, day_f, CNormal, CInfect, CHeal, CNet, CFound, True, True)"
   ]
  },
  {
   "cell_type": "code",
   "execution_count": 21,
   "metadata": {},
   "outputs": [
    {
     "name": "stdout",
     "output_type": "stream",
     "text": [
      "\n",
      "The top 10 best fitted parameters\n",
      "  MAE  f_rate Meeting  R\n",
      "  4.48   0.10 10.0  0.067\n",
      "  4.49   0.10 10.0  0.068\n",
      "  4.49   0.10 10.0  0.069\n",
      "  4.49   0.10 10.0  0.074\n",
      "  4.49   0.10 10.0  0.070\n",
      "  4.50   0.10 10.0  0.073\n",
      "  4.50   0.10 10.0  0.071\n",
      "  4.50   0.10 10.0  0.072\n",
      "  4.54   0.10 10.0  0.066\n",
      "  4.68   0.10 10.0  0.075\n",
      "\n",
      "Plotting for the best fitting\n",
      "  MAE  f_rate Meeting  R\n",
      "  4.48   0.10 10.0  0.067\n"
     ]
    },
    {
     "data": {
      "image/png": "[encoded data removed]",
      "text/plain": [
       "<Figure size 432x288 with 1 Axes>"
      ]
     },
     "metadata": {
      "needs_background": "light"
     },
     "output_type": "display_data"
    }
   ],
   "source": [
    "### Fitting\n",
    "# fit(f_rate_s,meeting_s,Rh_s,Rm_s,Rr_s,day_i,day_f, Normal, Infect, Heal, Net, Found)\n",
    "\n",
    "# step 1 day 0 to day 6\n",
    "day_i = 0; day_f = 7\n",
    "f_rate_s  = [0.1]\n",
    "meeting_s = [10]\n",
    "R_s       = np.arange(0.00,0.5,0.001)\n",
    "params, [MAE, CNormal, CInfect, CHeal, CNet, CFound] = fit(f_rate_s,meeting_s,R_s,day_i,day_f, [], [], [], [],[])\n"
   ]
  },
  {
   "cell_type": "code",
   "execution_count": 22,
   "metadata": {
    "scrolled": true
   },
   "outputs": [
    {
     "name": "stdout",
     "output_type": "stream",
     "text": [
      "\n",
      "The top 10 best fitted parameters\n",
      "  MAE  f_rate Meeting  R\n",
      " 12.70   0.10 10.0  0.138\n",
      " 12.76   0.10 10.0  0.137\n",
      " 13.33   0.10 10.0  0.139\n",
      " 13.97   0.10 10.0  0.140\n",
      " 14.18   0.10 10.0  0.136\n",
      " 14.61   0.10 10.0  0.141\n",
      " 15.25   0.10 10.0  0.142\n",
      " 15.58   0.10 10.0  0.135\n",
      " 16.96   0.10 10.0  0.134\n",
      " 17.32   0.10 10.0  0.143\n",
      "\n",
      "Plotting for the best fitting\n",
      "  MAE  f_rate Meeting  R\n",
      " 12.70   0.10 10.0  0.138\n"
     ]
    },
    {
     "data": {
      "image/png": "[encoded data removed]",
      "text/plain": [
       "<Figure size 432x288 with 1 Axes>"
      ]
     },
     "metadata": {
      "needs_background": "light"
     },
     "output_type": "display_data"
    }
   ],
   "source": [
    "# step 2 day 7 to day 13\n",
    "day_i = 8; day_f = 13\n",
    "f_rate_s  = [0.1]\n",
    "meeting_s = [10]\n",
    "R_s       = np.arange(0.00,0.5,0.001)\n",
    "params, [MAE, CNormal, CInfect, CHeal, CNet, CFound] = fit(f_rate_s,meeting_s,R_s,day_i,day_f, CNormal, CInfect, CHeal, CNet, CFound)"
   ]
  },
  {
   "cell_type": "code",
   "execution_count": 23,
   "metadata": {
    "scrolled": true
   },
   "outputs": [
    {
     "name": "stdout",
     "output_type": "stream",
     "text": [
      "\n",
      "The top 10 best fitted parameters\n",
      "  MAE  f_rate Meeting  R\n",
      "117.38   0.10 10.0  0.140\n",
      "118.04   0.10 10.0  0.141\n",
      "119.73   0.10 10.0  0.142\n",
      "120.30   0.10 10.0  0.139\n",
      "121.49   0.10 10.0  0.143\n",
      "123.19   0.10 10.0  0.138\n",
      "123.31   0.10 10.0  0.144\n",
      "125.19   0.10 10.0  0.145\n",
      "126.05   0.10 10.0  0.137\n",
      "127.14   0.10 10.0  0.146\n",
      "\n",
      "Plotting for the best fitting\n",
      "  MAE  f_rate Meeting  R\n",
      "117.38   0.10 10.0  0.140\n"
     ]
    },
    {
     "data": {
      "image/png": "[encoded data removed]",
      "text/plain": [
       "<Figure size 432x288 with 1 Axes>"
      ]
     },
     "metadata": {
      "needs_background": "light"
     },
     "output_type": "display_data"
    }
   ],
   "source": [
    "# step 3 day 14 to day 20\n",
    "day_i = 14; day_f = 20\n",
    "f_rate_s  = [0.1]\n",
    "meeting_s = [10]\n",
    "R_s       = np.arange(0.00,0.5,0.001)\n",
    "params, [MAE, CNormal, CInfect, CHeal, CNet, CFound] = fit(f_rate_s,meeting_s,R_s,day_i,day_f, CNormal, CInfect, CHeal, CNet, CFound)"
   ]
  },
  {
   "cell_type": "code",
   "execution_count": 24,
   "metadata": {},
   "outputs": [
    {
     "name": "stdout",
     "output_type": "stream",
     "text": [
      "[117.37908634416797, 0.1, 10, 0.14]\n"
     ]
    },
    {
     "data": {
      "image/png": "[encoded data removed]",
      "text/plain": [
       "<Figure size 432x288 with 1 Axes>"
      ]
     },
     "metadata": {
      "needs_background": "light"
     },
     "output_type": "display_data"
    }
   ],
   "source": [
    "### prediction\n",
    "day_i = 21; day_f = 270\n",
    "print(params)\n",
    "use_last_fitting = True   # True or False\n",
    "if use_last_fitting:\n",
    "    ### from last fitting\n",
    "    f_rate = params[1]\n",
    "    meeting= params[2]\n",
    "    R      = params[3]\n",
    "\n",
    "else:\n",
    "    ### new input\n",
    "    f_rate = 0.1\n",
    "    meeting= 10\n",
    "    R      = 0.08\n",
    "_,_,_,_,_ = model(f_rate, meeting, R, day_i, day_f, CNormal, CInfect, CHeal, CNet, CFound, plot=True, fit=False)\n",
    "\n"
   ]
  },
  {
   "cell_type": "code",
   "execution_count": null,
   "metadata": {},
   "outputs": [],
   "source": []
  }
 ],
 "metadata": {
  "kernelspec": {
   "display_name": "Python 3",
   "language": "python",
   "name": "python3"
  },
  "language_info": {
   "codemirror_mode": {
    "name": "ipython",
    "version": 3
   },
   "file_extension": ".py",
   "mimetype": "text/x-python",
   "name": "python",
   "nbconvert_exporter": "python",
   "pygments_lexer": "ipython3",
   "version": "3.7.4"
  }
 },
 "nbformat": 4,
 "nbformat_minor": 2
}
