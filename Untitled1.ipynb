{
 "cells": [
  {
   "cell_type": "code",
   "execution_count": 46,
   "metadata": {},
   "outputs": [],
   "source": [
    "# -*- coding: utf-8 -*-\n",
    "\"\"\"\n",
    "Created on Sun Apr  5 13:24:49 2020\n",
    "@author: Lappawat\n",
    "\"\"\"\n",
    "import numpy as np\n",
    "\n",
    "\n",
    "x = 1000          # numbers of samples\n",
    "p = 1              # percentage of being positive\n",
    "c = 10             # numbers of group\n",
    "xp = x*p/100       # numbers of positive\n",
    "s =1000             # randoms s times\n",
    "cnt_f = [0]*(c+1)        \n",
    "t_avg = 0\n",
    "\n",
    "\n"
   ]
  },
  {
   "cell_type": "code",
   "execution_count": 47,
   "metadata": {},
   "outputs": [
    {
     "name": "stdout",
     "output_type": "stream",
     "text": [
      "[0, 0, 0, 1, 13, 118, 364, 341, 152, 11, 0]\n",
      "average numbers of tests: 663\n"
     ]
    }
   ],
   "source": [
    "for j in range(s):\n",
    "    t = c              # numbers of tests\n",
    "    cnt = 0\n",
    "    samples = ['N']*(x)\n",
    "    pos=xp\n",
    "    while (pos > 0):\n",
    "        ind = np.random.randint(0,x)\n",
    "        if samples[ind] == 'N':\n",
    "            samples[ind] = 'P'\n",
    "            pos = pos - 1 \n",
    "    cnt_pos = samples.count('P')\n",
    "    #print(cnt_pos)\n",
    "    samples = np.array(samples).reshape(int(c),int(x/c))\n",
    "    #print(samples)\n",
    "    \n",
    "    tmp = []\n",
    "    for i in range(len(samples)):\n",
    "        batch = samples[i]\n",
    "        if 'P' in batch:\n",
    "            t = t + int(x/c)\n",
    "            cnt = cnt + 1\n",
    "            tmp.append(i)\n",
    "            #print('found in batch %2d' %i)\n",
    "    \n",
    "    t_avg = t_avg + t\n",
    "    cnt_f[cnt] = cnt_f[cnt]+1\n",
    "    #print(tmp)\n",
    "    #print('total numbers of tests: %d' %t)\n",
    "\n",
    "t_avg = t_avg/s\n",
    "print(cnt_f)\n",
    "print('average numbers of tests: %d' %round(t_avg))\n"
   ]
  },
  {
   "cell_type": "code",
   "execution_count": null,
   "metadata": {},
   "outputs": [],
   "source": []
  },
  {
   "cell_type": "code",
   "execution_count": null,
   "metadata": {},
   "outputs": [],
   "source": []
  }
 ],
 "metadata": {
  "kernelspec": {
   "display_name": "Python 3",
   "language": "python",
   "name": "python3"
  },
  "language_info": {
   "codemirror_mode": {
    "name": "ipython",
    "version": 3
   },
   "file_extension": ".py",
   "mimetype": "text/x-python",
   "name": "python",
   "nbconvert_exporter": "python",
   "pygments_lexer": "ipython3",
   "version": "3.7.4"
  }
 },
 "nbformat": 4,
 "nbformat_minor": 2
}
