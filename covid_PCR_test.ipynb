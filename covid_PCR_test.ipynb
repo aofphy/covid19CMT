{
 "cells": [
  {
   "cell_type": "code",
   "execution_count": 2,
   "metadata": {},
   "outputs": [],
   "source": [
    "import numpy as np\n",
    "import matplotlib.pyplot as plt\n",
    "import numpy as np"
   ]
  },
  {
   "cell_type": "code",
   "execution_count": 2,
   "metadata": {},
   "outputs": [
    {
     "name": "stdout",
     "output_type": "stream",
     "text": [
      "#batch, #test\n",
      "1 5050\n",
      "#batch, #test\n",
      "2 2600\n",
      "#batch, #test\n",
      "3 1817\n",
      "#batch, #test\n",
      "4 1450\n",
      "#batch, #test\n",
      "5 1250\n",
      "#batch, #test\n",
      "6 1133\n",
      "#batch, #test\n",
      "7 1064\n",
      "#batch, #test\n",
      "8 1025\n",
      "#batch, #test\n",
      "9 1006\n",
      "#batch, #test\n",
      "10 1000\n",
      "#batch, #test\n",
      "11 1005\n",
      "#batch, #test\n",
      "12 1017\n",
      "#batch, #test\n",
      "13 1035\n",
      "#batch, #test\n",
      "14 1057\n",
      "#batch, #test\n",
      "15 1083\n",
      "#batch, #test\n",
      "16 1112\n",
      "#batch, #test\n",
      "17 1144\n",
      "#batch, #test\n",
      "18 1178\n",
      "#batch, #test\n",
      "19 1213\n"
     ]
    }
   ],
   "source": [
    "chance= 0.01\n",
    "sample= 5000\n",
    "\n",
    "for i in range(1,20):\n",
    "    #x=sample/3\n",
    "    #first= np.ceil(sample/i)\n",
    "    #second= (np.ceil(first*chance))*i\n",
    "    total= round((sample/i)+(sample*i)*chance)\n",
    "    print('#batch, #test')\n",
    "    print(i,total)"
   ]
  },
  {
   "cell_type": "code",
   "execution_count": null,
   "metadata": {},
   "outputs": [],
   "source": []
  },
  {
   "cell_type": "code",
   "execution_count": 44,
   "metadata": {},
   "outputs": [
    {
     "name": "stdout",
     "output_type": "stream",
     "text": [
      "30\n"
     ]
    }
   ],
   "source": []
  },
  {
   "cell_type": "code",
   "execution_count": null,
   "metadata": {},
   "outputs": [],
   "source": []
  },
  {
   "cell_type": "code",
   "execution_count": null,
   "metadata": {},
   "outputs": [],
   "source": []
  }
 ],
 "metadata": {
  "kernelspec": {
   "display_name": "Python 3",
   "language": "python",
   "name": "python3"
  },
  "language_info": {
   "codemirror_mode": {
    "name": "ipython",
    "version": 3
   },
   "file_extension": ".py",
   "mimetype": "text/x-python",
   "name": "python",
   "nbconvert_exporter": "python",
   "pygments_lexer": "ipython3",
   "version": "3.7.4"
  }
 },
 "nbformat": 4,
 "nbformat_minor": 2
}
