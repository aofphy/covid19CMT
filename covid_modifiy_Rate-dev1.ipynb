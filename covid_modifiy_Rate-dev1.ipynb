{
 "cells": [
  {
   "cell_type": "code",
   "execution_count": 32,
   "metadata": {},
   "outputs": [],
   "source": [
    "import numpy as np\n",
    "import random \n",
    "import matplotlib.pyplot as plt\n",
    "from mpl_toolkits import mplot3d\n",
    "\n",
    "### Real data\n",
    "real_infected = [1000,1030,1060,1130,1150,1240,1410,1460,1470,1770,2120,2720,3220,4110,5990,7210,8270,9340,10450,11360]\n",
    "date = np.arange(0,len(real_infected))\n",
    "\n",
    "def drange(start, stop, step):\n",
    "    r = start\n",
    "    while r < stop:\n",
    "        yield r\n",
    "        r += step\n",
    "        \n",
    "i1=drange(0, 0.7, 0.01    \n",
    "step1=[float(x) for x in i1]\n",
    "i2=drange(0.0, 0.7, 0.01)    \n",
    "step2=[float(x) for x in i2]\n",
    "i3=drange(0, 0.7, 0.01)    \n",
    "step3=[float(x) for x in i3]\n"
   ]
  },
  {
   "cell_type": "code",
   "execution_count": 33,
   "metadata": {},
   "outputs": [],
   "source": [
    "### Prediction\n",
    "############### Parameters ##########################\n",
    "x=10\n",
    "inft =100*x        # initial infected people\n",
    "length  =19       # predicted length (days)\n",
    "meeting  =10      # 1 infected people can meet 20 people\n",
    "healed_day= 21     # infected people will be healed in 7 days after being infected\n",
    "#x=1\n",
    "H=500\n",
    "M=250\n",
    "R=250\n",
    "# Define 3 classes of people depending on how to response\n",
    "# 0 H = (Highy responsible)\n",
    "# 1 M = (Moderately responsible)\n",
    "# 2 R = (Risky)\n",
    "Pop       = [H,M,R]\n",
    "Pop_tot   = sum(Pop)\n",
    "f = open('RHMR_6.txt', 'w')\n",
    "for Rh in step1:\n",
    "    for Rm in step2:\n",
    "        for Rr in step3:\n",
    "            R_lst = [Rh,Rm,Rr] # contact rate\n",
    "            init_infect  = [0,inft ,0]\n",
    "            #..............................#\n",
    "            for i in range(len(Pop)):\n",
    "                Pop[i] = Pop[i]-init_infect[i]\n",
    "\n",
    "            #Day 0\n",
    "            day      = [0]\n",
    "            Normal   = [[] for i in range(len(Pop))] # never being infected\n",
    "            Infect   = [[] for i in range(len(Pop))] # sum of being infected and used to\n",
    "            Heal     = [[] for i in range(len(Pop))] # be healed\n",
    "            Net      = [[] for i in range(len(Pop))] # still being infected\n",
    "            for i in range(len(Pop)):\n",
    "                Normal[i].append(Pop[i])     \n",
    "                Infect[i].append(init_infect[i])          \n",
    "                Heal[i].append(0)                   \n",
    "                Net[i].append(Infect[i][0] - Heal[i][0])  \n",
    "\n",
    "            #begin model\n",
    "            for i in range(length):\n",
    "                day.append(i+1)\n",
    "                ### group j meet k\n",
    "                for j in range(len(Pop)):\n",
    "                    new_infect = 0\n",
    "                    for k in range(len(Pop)):\n",
    "                        Rate  = R_lst[k]*meeting\n",
    "                        ### new total infected people\n",
    "                        new_infect = new_infect + Rate*Net[k][-1]*Normal[j][-1]/Pop_tot\n",
    "                    Infect[j].append(Infect[j][-1] + new_infect)\n",
    "\n",
    "                    ### new normal people\n",
    "                    Normal[j].append(Normal[j][-1]-new_infect)\n",
    "                    ### new healed people\n",
    "                    if i <= healed_day:\n",
    "                        Heal[j].append(0)\n",
    "                    else:\n",
    "                        new_healed = Infect[j][i-healed_day]-Infect[j][i-healed_day-1]\n",
    "                        Heal[j].append(Heal[j][-1]+new_healed)\n",
    "                    ### new net\n",
    "                    Net[j].append(Infect[j][-1]-Heal[j][-1])\n",
    "                    ##print('day: %2d Normal: %10.1f Infected: %10.1f Healed: %10.1f Net: %10.1f //%10.1f' %(i,Normal[j][-1],Infect[j][-1],Heal[j][-1],Net[j][-1],new_infect))\n",
    "\n",
    "                #changing list into nparray\n",
    "            Normal = np.array(Normal)\n",
    "            Infect = np.array(Infect)\n",
    "            Heal   = np.array(Heal)\n",
    "            Net    = np.array(Net)\n",
    "            Normal_sum = np.zeros(len(Normal[0]))\n",
    "            Infect_sum = np.zeros(len(Infect[0]));\n",
    "            Heal_sum = np.zeros(len(Heal[0]))\n",
    "            Net_sum = np.zeros(len(Net[0]))\n",
    "            for j in range(len(Pop)):\n",
    "                Normal_sum = Normal_sum + Normal[j]\n",
    "                Infect_sum = Infect_sum + Infect[j]\n",
    "                Heal_sum   = Heal_sum   + Heal[j]\n",
    "                Net_sum    = Net_sum    + Net[j]\n",
    "            AE=0\n",
    "            for i in range(length):   ##mean absolute error\n",
    "                AE=AE+abs(Infect_sum[i]-real_infected[i])\n",
    "            \n",
    "            f.write('%.4f %.4f %.4f %.3f \\n'%(R_lst[0],R_lst[1],R_lst[2],(AE/length)))\n",
    "            #for i in range(length):\n",
    "                #f.write('%2d %10.1f \\n' %(i,Infect_sum[i]))\n",
    "f.close()"
   ]
  },
  {
   "cell_type": "code",
   "execution_count": 34,
   "metadata": {},
   "outputs": [],
   "source": [
    "#plt.plot(day,Normal_sum,'-',label =\"Normal\")\n",
    "#plt.plot(day,Infect_sum,'-',label =\"Infected\")\n",
    "##plt.plot(day,Heal_sum,'-',label =\"Healed\")\n",
    "#plt.plot(day,Net_sum,'-',label =\"Net\")\n",
    "#plt.plot(date,real_infected, 'ro', label='real')\n",
    "##plt.xlabel('day')\n",
    "#plt.ylabel('people')\n",
    "#plt.legend()\n",
    "#plt.show()\n",
    "    "
   ]
  },
  {
   "cell_type": "code",
   "execution_count": null,
   "metadata": {},
   "outputs": [],
   "source": []
  },
  {
   "cell_type": "code",
   "execution_count": 10,
   "metadata": {},
   "outputs": [
    {
     "data": {
      "text/plain": [
       "5990"
      ]
     },
     "execution_count": 10,
     "metadata": {},
     "output_type": "execute_result"
    }
   ],
   "source": []
  },
  {
   "cell_type": "code",
   "execution_count": null,
   "metadata": {},
   "outputs": [],
   "source": []
  }
 ],
 "metadata": {
  "kernelspec": {
   "display_name": "Python 3",
   "language": "python",
   "name": "python3"
  },
  "language_info": {
   "codemirror_mode": {
    "name": "ipython",
    "version": 3
   },
   "file_extension": ".py",
   "mimetype": "text/x-python",
   "name": "python",
   "nbconvert_exporter": "python",
   "pygments_lexer": "ipython3",
   "version": "3.7.4"
  }
 },
 "nbformat": 4,
 "nbformat_minor": 2
}
