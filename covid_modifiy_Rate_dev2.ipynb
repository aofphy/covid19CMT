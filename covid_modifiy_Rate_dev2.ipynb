{
 "cells": [
  {
   "cell_type": "code",
   "execution_count": 212,
   "metadata": {},
   "outputs": [],
   "source": [
    "import numpy as np\n",
    "import random \n",
    "import matplotlib.pyplot as plt\n",
    "import copy\n",
    "from mpl_toolkits import mplot3d"
   ]
  },
  {
   "cell_type": "code",
   "execution_count": 213,
   "metadata": {},
   "outputs": [],
   "source": [
    "real_infected = np.array([100,103,106,113,115,124,141,146,147,177,212,272,322,411,599,721,827,934,1045,1136,1245])\n",
    "date = np.arange(0,len(real_infected))"
   ]
  },
  {
   "cell_type": "code",
   "execution_count": 214,
   "metadata": {},
   "outputs": [],
   "source": [
    "############### Parameters ##########################\n",
    "# Define 3 classes of people depending on how to response\n",
    "# 0 H = (Highy responsible)\n",
    "# 1 M = (Moderately responsible)\n",
    "# 2 R = (Risky)\n",
    "H=30000000\n",
    "M=10000000\n",
    "R=20000000\n",
    "Pop        = [H,M,R]\n",
    "Pop_tot    = sum(Pop)\n",
    "#length     = 20      # predicted length (days)\n",
    "healed_day = 21     # infected people will be healed in 21 days after being infected"
   ]
  },
  {
   "cell_type": "code",
   "execution_count": 215,
   "metadata": {},
   "outputs": [],
   "source": [
    "def model(f_rate, meeting, Rh, Rm, Rr, day_i, day_f, normal, infect, heal, net, found, plot=False, fit=True):\n",
    "    ## model infection from day_i to day_f and calculate MAE \n",
    "    \n",
    "    # Fitting parameters\n",
    "    # f_rate      :found rate\n",
    "    # meeting     :1 infected people can meet <meeting> people\n",
    "    # {Rh,Rm,Rr}  :transfered rate\n",
    "    # normal, infect, heal, net : day_i\n",
    "    \n",
    "    R_lst    = [Rh,Rm,Rr] # transfered rate\n",
    "    if day_i == 0:\n",
    "        day      = [0]\n",
    "        inft = real_infected[0]/f_rate        # initial infected people\n",
    "        init_infect  = [inft,0,0]\n",
    "        #..............................#\n",
    "        Normal   = [[] for i in range(len(Pop))] # never being infected\n",
    "        Infect   = [[] for i in range(len(Pop))] # sum of being infected and used to\n",
    "        Heal     = [[] for i in range(len(Pop))] # be healed\n",
    "        Net      = [[] for i in range(len(Pop))] # still being infected\n",
    "        Found    = [[] for i in range(len(Pop))] # infect * found_rate\n",
    "        for i in range(len(Pop)):\n",
    "            Normal[i].append(Pop[i]-init_infect[i])     \n",
    "            Infect[i].append(init_infect[i])          \n",
    "            Heal[i].append(0)                   \n",
    "            Net[i].append(Infect[i][0] - Heal[i][0])\n",
    "            Found[i].append(init_infect[i]*f_rate)\n",
    "        day_i = 1\n",
    "    else:\n",
    "        day   =list(range(day_i))\n",
    "        Normal=copy.deepcopy(normal)\n",
    "        Infect=copy.deepcopy(infect)\n",
    "        Heal  =copy.deepcopy(heal)\n",
    "        Net   =copy.deepcopy(net)\n",
    "        Found =copy.deepcopy(found)\n",
    "    \n",
    "    #begin modeling\n",
    "    for i in range(day_i,day_f+1):\n",
    "        day.append(i)\n",
    "        ### group j meet k\n",
    "        for j in range(len(Pop)):\n",
    "            \n",
    "            ### update total infected people\n",
    "            new_infect = 0\n",
    "            for k in range(len(Pop)):\n",
    "                Rate  = R_lst[j]*R_lst[k]*meeting\n",
    "                new_infect = new_infect + Rate*Net[k][-1]*Normal[j][-1]/Pop_tot\n",
    "            Infect[j].append(Infect[j][-1] + new_infect)\n",
    "            \n",
    "            ### update found people\n",
    "            Found[j].append(Found[j][-1]+new_infect*f_rate)\n",
    "            \n",
    "            ### update normal people\n",
    "            Normal[j].append(Normal[j][-1]-new_infect)\n",
    "            \n",
    "            ### update healed people\n",
    "            if i < healed_day:\n",
    "                new_healed = 0\n",
    "            elif i == healed_day:\n",
    "                new_healed = Infect[j][0]\n",
    "            else:\n",
    "                new_healed = Infect[j][-1-healed_day]-Infect[j][-1-healed_day-1]\n",
    "            Heal[j].append(Heal[j][-1]+new_healed)\n",
    "            \n",
    "            ### update net\n",
    "            Net[j].append(Infect[j][-1]-Heal[j][-1])\n",
    "            ##print('day: %2d Normal: %10.1f Infected: %10.1f Healed: %10.1f Net: %10.1f //%10.1f' %(i,Normal[j][-1],Infect[j][-1],Heal[j][-1],Net[j][-1],new_infect))\n",
    "        \n",
    "    ### Plotting\n",
    "    \n",
    "    Normal_sum = np.zeros(len(Normal[0]))\n",
    "    Infect_sum = np.zeros(len(Infect[0]))\n",
    "    Heal_sum = np.zeros(len(Heal[0]))\n",
    "    Net_sum = np.zeros(len(Net[0]))\n",
    "    Found_sum = np.zeros(len(Net[0]))\n",
    "    for j in range(len(Pop)):\n",
    "        Normal_sum = Normal_sum + Normal[j]\n",
    "        Infect_sum = Infect_sum + Infect[j]\n",
    "        Heal_sum   = Heal_sum   + Heal[j]\n",
    "        Net_sum    = Net_sum    + Net[j]    \n",
    "        Found_sum  = Found_sum  + Found[j]  \n",
    "    if plot==True:\n",
    "        #plt.plot(day,Normal_sum,'-',label =\"Normal\")\n",
    "        plt.plot(day,Infect_sum,'-',label =\"Infected\")\n",
    "        plt.plot(day,Heal_sum,'-',label =\"Healed\")\n",
    "        plt.plot(day,Net_sum,'-',label =\"Net\")\n",
    "        plt.plot(day,Found_sum,'-',label =\"Found\")\n",
    "        plt.plot(date,real_infected,'ro', label='real')    \n",
    "        plt.xlabel('day')\n",
    "        plt.ylabel('people')\n",
    "        plt.legend()\n",
    "        plt.show()\n",
    "    if fit == True:\n",
    "        ### Calculate MAE\n",
    "        AE=0\n",
    "        for i in range(day_i,day_f+1):\n",
    "            AE=AE+abs(Found_sum[i]-real_infected[i])\n",
    "        MAE = AE/(day_f-day_i+1)\n",
    "        #print(\"%10.4f\" %MAE)\n",
    "\n",
    "        return MAE, Normal, Infect, Heal, Net, Found\n",
    "    else:\n",
    "        return Normal, Infect, Heal, Net, Found"
   ]
  },
  {
   "cell_type": "code",
   "execution_count": 216,
   "metadata": {},
   "outputs": [],
   "source": [
    "### fitting from day_i to day_f\n",
    "def fit(f_rate_s,meeting_s,Rh_s,Rm_s,Rr_s,day_i, day_f, CNormal, CInfect, CHeal, CNet, CFound):\n",
    "    data = []\n",
    "    for f_rate in f_rate_s:\n",
    "        for meeting in meeting_s:\n",
    "            for Rh in Rh_s:\n",
    "                for Rm in Rm_s:\n",
    "                    for Rr in Rr_s:\n",
    "                        normal = copy.deepcopy(CNormal)\n",
    "                        infect = copy.deepcopy(CInfect)\n",
    "                        heal   = copy.deepcopy(CHeal)\n",
    "                        net    = copy.deepcopy(CNet)\n",
    "                        found  = copy.deepcopy(CFound)\n",
    "                        MAE, _, _, _, _, _ = model(f_rate, meeting, Rh, Rm, Rr, day_i, day_f,normal,infect,heal,net,found,plot=False,fit=True)\n",
    "                        #print('%6.2f %6.2f %4.1f %6.3f %6.3f %6.3f' %(MAE,f_rate,meeting,Rh,Rm,Rr))\n",
    "                        data.append([MAE, f_rate,meeting,Rh,Rm,Rr])\n",
    "    sorted_data = sorted(data,key=lambda x: x[0])\n",
    "    print('\\nThe top 10 best fitted parameters')\n",
    "    print('  MAE  f_rate Meeting  Rh    Rm    Rr')\n",
    "    for i in range(10):\n",
    "        print('%6.2f %6.2f %4.1f %6.3f %6.3f %6.3f' %(sorted_data[i][0],sorted_data[i][1],sorted_data[i][2],sorted_data[i][3],sorted_data[i][4],sorted_data[i][5]))\n",
    "    print('\\nPlotting for the best fitting')\n",
    "    print('  MAE  f_rate Meeting  Rh    Rm    Rr')\n",
    "    print('%6.2f %6.2f %4.1f %6.3f %6.3f %6.3f' %(sorted_data[0][0],sorted_data[0][1],sorted_data[0][2],sorted_data[0][3],sorted_data[0][4],sorted_data[0][5]))\n",
    "    return sorted_data[0],model(sorted_data[0][1], sorted_data[0][2], sorted_data[0][3], sorted_data[0][4], sorted_data[0][5], day_i, day_f, CNormal, CInfect, CHeal, CNet, CFound, True, True)"
   ]
  },
  {
   "cell_type": "code",
   "execution_count": 217,
   "metadata": {},
   "outputs": [
    {
     "name": "stdout",
     "output_type": "stream",
     "text": [
      "\n",
      "The top 10 best fitted parameters\n",
      "  MAE  f_rate Meeting  Rh    Rm    Rr\n",
      "  1.95   0.05 10.0  0.020  0.100  0.300\n",
      "  1.95   0.10 10.0  0.020  0.100  0.300\n",
      "  1.95   0.15 10.0  0.020  0.100  0.300\n",
      "  1.95   0.20 10.0  0.020  0.100  0.300\n",
      "  2.32   0.05  6.0  0.020  0.200  0.400\n",
      "  2.32   0.10  6.0  0.020  0.200  0.400\n",
      "  2.32   0.15  6.0  0.020  0.200  0.400\n",
      "  2.32   0.20  6.0  0.020  0.200  0.400\n",
      "  2.46   0.05  7.0  0.020  0.100  0.400\n",
      "  2.46   0.10  7.0  0.020  0.100  0.400\n",
      "\n",
      "Plotting for the best fitting\n",
      "  MAE  f_rate Meeting  Rh    Rm    Rr\n",
      "  1.95   0.05 10.0  0.020  0.100  0.300\n"
     ]
    },
    {
     "data": {
      "image/png": "[encoded data removed]",
      "text/plain": [
       "<Figure size 432x288 with 1 Axes>"
      ]
     },
     "metadata": {
      "needs_background": "light"
     },
     "output_type": "display_data"
    }
   ],
   "source": [
    "### Fitting\n",
    "# fit(f_rate_s,meeting_s,Rh_s,Rm_s,Rr_s,day_i,day_f, Normal, Infect, Heal, Net, Found)\n",
    "\n",
    "# step 1 day 0 to day 7\n",
    "day_i = 0; day_f = 7\n",
    "f_rate_s  = np.arange(0.05,0.20,0.05)\n",
    "meeting_s = np.arange(3,11,1)\n",
    "Rh_s      = np.arange(0.01,0.03,0.01)\n",
    "Rm_s      = np.arange(0.1,0.3,0.1)\n",
    "Rr_s      = np.arange(0.3,0.5,0.1)\n",
    "params, [MAE, CNormal, CInfect, CHeal, CNet, CFound] = fit(f_rate_s,meeting_s,Rh_s,Rm_s,Rr_s,day_i,day_f, [30E7,10E7,20E7], [0,0,0], [0,0,0], [0,0,0],[0,0,0])\n"
   ]
  },
  {
   "cell_type": "code",
   "execution_count": 218,
   "metadata": {
    "scrolled": true
   },
   "outputs": [
    {
     "name": "stdout",
     "output_type": "stream",
     "text": [
      "\n",
      "The top 10 best fitted parameters\n",
      "  MAE  f_rate Meeting  Rh    Rm    Rr\n",
      "  9.80   0.05  9.0  0.010  0.200  0.300\n",
      " 11.00   0.05 10.0  0.020  0.100  0.300\n",
      " 11.88   0.05  6.0  0.020  0.100  0.400\n",
      " 15.57   0.05  8.0  0.020  0.200  0.300\n",
      " 16.36   0.10  7.0  0.010  0.100  0.300\n",
      " 17.30   0.10  4.0  0.020  0.100  0.400\n",
      " 17.84   0.05  6.0  0.010  0.100  0.400\n",
      " 17.88   0.10  6.0  0.010  0.200  0.300\n",
      " 17.90   0.05  5.0  0.020  0.200  0.400\n",
      " 18.05   0.05  6.0  0.010  0.200  0.400\n",
      "\n",
      "Plotting for the best fitting\n",
      "  MAE  f_rate Meeting  Rh    Rm    Rr\n",
      "  9.80   0.05  9.0  0.010  0.200  0.300\n"
     ]
    },
    {
     "data": {
      "image/png": "[encoded data removed]",
      "text/plain": [
       "<Figure size 432x288 with 1 Axes>"
      ]
     },
     "metadata": {
      "needs_background": "light"
     },
     "output_type": "display_data"
    }
   ],
   "source": [
    "# step 2 day 8 to day 13\n",
    "day_i = 8; day_f = 13\n",
    "f_rate_s  = np.arange(0.05,0.20,0.05)\n",
    "meeting_s = np.arange(3,11,1)\n",
    "Rh_s      = np.arange(0.01,0.03,0.01)\n",
    "Rm_s      = np.arange(0.1,0.3,0.1)\n",
    "Rr_s      = np.arange(0.3,0.5,0.1)\n",
    "params, [MAE, CNormal, CInfect, CHeal, CNet, CFound] = fit(f_rate_s,meeting_s,Rh_s,Rm_s,Rr_s,day_i,day_f, CNormal, CInfect, CHeal, CNet, CFound)"
   ]
  },
  {
   "cell_type": "code",
   "execution_count": 219,
   "metadata": {},
   "outputs": [
    {
     "name": "stdout",
     "output_type": "stream",
     "text": [
      "\n",
      "The top 10 best fitted parameters\n",
      "  MAE  f_rate Meeting  Rh    Rm    Rr\n",
      " 65.65   0.25  7.0  0.020  0.200  0.100\n",
      " 65.95   0.25  4.0  0.020  0.100  0.200\n",
      " 66.33   0.25  3.0  0.020  0.200  0.200\n",
      " 67.21   0.20  5.0  0.020  0.100  0.200\n",
      " 68.91   0.20  4.0  0.010  0.200  0.200\n",
      " 70.06   0.25  8.0  0.010  0.200  0.100\n",
      " 70.67   0.20  4.0  0.020  0.200  0.200\n",
      " 72.74   0.20  9.0  0.010  0.200  0.100\n",
      " 74.71   0.20  8.0  0.020  0.200  0.100\n",
      " 76.32   0.15  5.0  0.010  0.200  0.200\n",
      "\n",
      "Plotting for the best fitting\n",
      "  MAE  f_rate Meeting  Rh    Rm    Rr\n",
      " 65.65   0.25  7.0  0.020  0.200  0.100\n"
     ]
    },
    {
     "data": {
      "image/png": "[encoded data removed]",
      "text/plain": [
       "<Figure size 432x288 with 1 Axes>"
      ]
     },
     "metadata": {
      "needs_background": "light"
     },
     "output_type": "display_data"
    }
   ],
   "source": [
    "# step 3 day 14 to day 19\n",
    "day_i = 14; day_f = 20\n",
    "f_rate_s  = np.arange(0.05,0.3,0.05)\n",
    "meeting_s = np.arange(3,11,1)\n",
    "Rh_s      = np.arange(0.01,0.03,0.01)\n",
    "Rm_s      = np.arange(0.1,0.3,0.1)\n",
    "Rr_s      = np.arange(0.1,0.5,0.1)\n",
    "params, [MAE, CNormal, CInfect, CHeal, CNet, CFound] = fit(f_rate_s,meeting_s,Rh_s,Rm_s,Rr_s,day_i,day_f, CNormal, CInfect, CHeal, CNet, CFound)"
   ]
  },
  {
   "cell_type": "code",
   "execution_count": 228,
   "metadata": {},
   "outputs": [
    {
     "name": "stdout",
     "output_type": "stream",
     "text": [
      "[65.65221708118622, 0.25, 7, 0.02, 0.2, 0.1]\n"
     ]
    },
    {
     "data": {
      "image/png": "[encoded data removed]",
      "text/plain": [
       "<Figure size 432x288 with 1 Axes>"
      ]
     },
     "metadata": {
      "needs_background": "light"
     },
     "output_type": "display_data"
    }
   ],
   "source": [
    "### prediction\n",
    "day_i = 21; day_f = 40\n",
    "print(params)\n",
    "use_last_fitting = True   # True or False\n",
    "if use_last_fitting:\n",
    "    ### from last fitting\n",
    "    f_rate = params[1]\n",
    "    meeting= params[2]\n",
    "    Rh     = params[3]\n",
    "    Rm     = params[4]\n",
    "    Rr     = params[5]\n",
    "else:\n",
    "    ### new input\n",
    "    f_rate = 0.25\n",
    "    meeting= 7\n",
    "    Rh     = 0.02\n",
    "    Rm     = 0.2\n",
    "    Rr     = 0.1\n",
    "_,_,_,_,_ = model(f_rate, meeting, Rh, Rm, Rr, day_i, day_f, CNormal, CInfect, CHeal, CNet, CFound, plot=True, fit=False)\n",
    "\n"
   ]
  },
  {
   "cell_type": "code",
   "execution_count": null,
   "metadata": {},
   "outputs": [],
   "source": []
  },
  {
   "cell_type": "code",
   "execution_count": null,
   "metadata": {},
   "outputs": [],
   "source": []
  },
  {
   "cell_type": "code",
   "execution_count": null,
   "metadata": {},
   "outputs": [],
   "source": []
  }
 ],
 "metadata": {
  "kernelspec": {
   "display_name": "Python 3",
   "language": "python",
   "name": "python3"
  },
  "language_info": {
   "codemirror_mode": {
    "name": "ipython",
    "version": 3
   },
   "file_extension": ".py",
   "mimetype": "text/x-python",
   "name": "python",
   "nbconvert_exporter": "python",
   "pygments_lexer": "ipython3",
   "version": "3.7.4"
  }
 },
 "nbformat": 4,
 "nbformat_minor": 2
}
